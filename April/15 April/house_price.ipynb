{
 "cells": [
  {
   "cell_type": "code",
   "execution_count": 1,
   "metadata": {},
   "outputs": [],
   "source": [
    "import pandas as pd"
   ]
  },
  {
   "cell_type": "code",
   "execution_count": 2,
   "metadata": {},
   "outputs": [],
   "source": [
    "df = pd.read_csv('./data/house_price.csv')"
   ]
  },
  {
   "cell_type": "code",
   "execution_count": 3,
   "metadata": {},
   "outputs": [
    {
     "data": {
      "text/html": [
       "<div>\n",
       "<style scoped>\n",
       "    .dataframe tbody tr th:only-of-type {\n",
       "        vertical-align: middle;\n",
       "    }\n",
       "\n",
       "    .dataframe tbody tr th {\n",
       "        vertical-align: top;\n",
       "    }\n",
       "\n",
       "    .dataframe thead th {\n",
       "        text-align: right;\n",
       "    }\n",
       "</style>\n",
       "<table border=\"1\" class=\"dataframe\">\n",
       "  <thead>\n",
       "    <tr style=\"text-align: right;\">\n",
       "      <th></th>\n",
       "      <th>bedrooms</th>\n",
       "      <th>sq_meter</th>\n",
       "      <th>neighborhood</th>\n",
       "      <th>sales_price</th>\n",
       "    </tr>\n",
       "  </thead>\n",
       "  <tbody>\n",
       "    <tr>\n",
       "      <th>0</th>\n",
       "      <td>3</td>\n",
       "      <td>200</td>\n",
       "      <td>Normalville</td>\n",
       "      <td>250000</td>\n",
       "    </tr>\n",
       "    <tr>\n",
       "      <th>1</th>\n",
       "      <td>2</td>\n",
       "      <td>80</td>\n",
       "      <td>Cool Town</td>\n",
       "      <td>300000</td>\n",
       "    </tr>\n",
       "    <tr>\n",
       "      <th>2</th>\n",
       "      <td>2</td>\n",
       "      <td>85</td>\n",
       "      <td>Normalville</td>\n",
       "      <td>150000</td>\n",
       "    </tr>\n",
       "    <tr>\n",
       "      <th>3</th>\n",
       "      <td>1</td>\n",
       "      <td>55</td>\n",
       "      <td>Normalville</td>\n",
       "      <td>78000</td>\n",
       "    </tr>\n",
       "    <tr>\n",
       "      <th>4</th>\n",
       "      <td>4</td>\n",
       "      <td>200</td>\n",
       "      <td>Skid Row</td>\n",
       "      <td>150000</td>\n",
       "    </tr>\n",
       "  </tbody>\n",
       "</table>\n",
       "</div>"
      ],
      "text/plain": [
       "   bedrooms  sq_meter neighborhood  sales_price\n",
       "0         3       200  Normalville       250000\n",
       "1         2        80    Cool Town       300000\n",
       "2         2        85  Normalville       150000\n",
       "3         1        55  Normalville        78000\n",
       "4         4       200     Skid Row       150000"
      ]
     },
     "execution_count": 3,
     "metadata": {},
     "output_type": "execute_result"
    }
   ],
   "source": [
    "df.head()"
   ]
  },
  {
   "cell_type": "code",
   "execution_count": 4,
   "metadata": {},
   "outputs": [
    {
     "data": {
      "text/html": [
       "<div>\n",
       "<style scoped>\n",
       "    .dataframe tbody tr th:only-of-type {\n",
       "        vertical-align: middle;\n",
       "    }\n",
       "\n",
       "    .dataframe tbody tr th {\n",
       "        vertical-align: top;\n",
       "    }\n",
       "\n",
       "    .dataframe thead th {\n",
       "        text-align: right;\n",
       "    }\n",
       "</style>\n",
       "<table border=\"1\" class=\"dataframe\">\n",
       "  <thead>\n",
       "    <tr style=\"text-align: right;\">\n",
       "      <th></th>\n",
       "      <th>bedrooms</th>\n",
       "      <th>sq_meter</th>\n",
       "      <th>neighborhood</th>\n",
       "      <th>sales_price</th>\n",
       "    </tr>\n",
       "  </thead>\n",
       "  <tbody>\n",
       "    <tr>\n",
       "      <th>0</th>\n",
       "      <td>3</td>\n",
       "      <td>200</td>\n",
       "      <td>Normalville</td>\n",
       "      <td>250000</td>\n",
       "    </tr>\n",
       "    <tr>\n",
       "      <th>1</th>\n",
       "      <td>2</td>\n",
       "      <td>80</td>\n",
       "      <td>Cool Town</td>\n",
       "      <td>300000</td>\n",
       "    </tr>\n",
       "    <tr>\n",
       "      <th>2</th>\n",
       "      <td>2</td>\n",
       "      <td>85</td>\n",
       "      <td>Normalville</td>\n",
       "      <td>150000</td>\n",
       "    </tr>\n",
       "  </tbody>\n",
       "</table>\n",
       "</div>"
      ],
      "text/plain": [
       "   bedrooms  sq_meter neighborhood  sales_price\n",
       "0         3       200  Normalville       250000\n",
       "1         2        80    Cool Town       300000\n",
       "2         2        85  Normalville       150000"
      ]
     },
     "execution_count": 4,
     "metadata": {},
     "output_type": "execute_result"
    }
   ],
   "source": [
    "df.head(3)"
   ]
  },
  {
   "cell_type": "markdown",
   "metadata": {},
   "source": [
    "First attempt"
   ]
  },
  {
   "cell_type": "code",
   "execution_count": 5,
   "metadata": {},
   "outputs": [],
   "source": [
    "def estimate_house_sales_price(num_of_bedrooms, sqm, neighborhood):\n",
    "    price = 0\n",
    "\n",
    "    price_per_sqm = 200\n",
    "    if neighborhood == 'Cool Town':\n",
    "        price_per_sqm = 400\n",
    "    elif neighborhood == 'Skid Row':\n",
    "        price_per_sqm = 100\n",
    "    \n",
    "    price = price_per_sqm * sqm\n",
    "\n",
    "    if num_of_bedrooms == 0:\n",
    "        price -= 20000 \n",
    "    else:\n",
    "        price += num_of_bedrooms * 100000\n",
    "    return price"
   ]
  },
  {
   "cell_type": "code",
   "execution_count": 6,
   "metadata": {},
   "outputs": [
    {
     "data": {
      "text/plain": [
       "417500"
      ]
     },
     "execution_count": 6,
     "metadata": {},
     "output_type": "execute_result"
    }
   ],
   "source": [
    "estimate_house_sales_price(4, 175, 'Skid Row')"
   ]
  },
  {
   "cell_type": "markdown",
   "metadata": {},
   "source": [
    "Make it more flexible"
   ]
  },
  {
   "cell_type": "code",
   "execution_count": 7,
   "metadata": {},
   "outputs": [],
   "source": [
    "def estimate_house_sales_price(num_of_bedrooms, sqm, neighborhood):\n",
    "    price = 0\n",
    "\n",
    "    price += num_of_bedrooms * 0.841232951398213\n",
    "    price += sqm *1231.1231231\n",
    "    price += neighborhood * 2.3242341421\n",
    "    price += 201.23432095\n",
    "    return price"
   ]
  },
  {
   "cell_type": "code",
   "execution_count": 8,
   "metadata": {},
   "outputs": [
    {
     "ename": "TypeError",
     "evalue": "can't multiply sequence by non-int of type 'float'",
     "output_type": "error",
     "traceback": [
      "\u001b[1;31m---------------------------------------------------------------------------\u001b[0m",
      "\u001b[1;31mTypeError\u001b[0m                                 Traceback (most recent call last)",
      "Cell \u001b[1;32mIn[8], line 2\u001b[0m\n\u001b[0;32m      1\u001b[0m \u001b[38;5;28;01mfor\u001b[39;00m _, house \u001b[38;5;129;01min\u001b[39;00m df\u001b[38;5;241m.\u001b[39miterrows():\n\u001b[1;32m----> 2\u001b[0m     \u001b[38;5;28mprint\u001b[39m(\u001b[43mestimate_house_sales_price\u001b[49m\u001b[43m(\u001b[49m\u001b[43mhouse\u001b[49m\u001b[38;5;241;43m.\u001b[39;49m\u001b[43mbedrooms\u001b[49m\u001b[43m,\u001b[49m\u001b[43m \u001b[49m\u001b[43mhouse\u001b[49m\u001b[38;5;241;43m.\u001b[39;49m\u001b[43msq_meter\u001b[49m\u001b[43m,\u001b[49m\u001b[43m \u001b[49m\u001b[43mhouse\u001b[49m\u001b[38;5;241;43m.\u001b[39;49m\u001b[43mneighborhood\u001b[49m\u001b[43m)\u001b[49m, house\u001b[38;5;241m.\u001b[39msales_price)\n",
      "Cell \u001b[1;32mIn[7], line 6\u001b[0m, in \u001b[0;36mestimate_house_sales_price\u001b[1;34m(num_of_bedrooms, sqm, neighborhood)\u001b[0m\n\u001b[0;32m      4\u001b[0m price \u001b[38;5;241m+\u001b[39m\u001b[38;5;241m=\u001b[39m num_of_bedrooms \u001b[38;5;241m*\u001b[39m \u001b[38;5;241m0.841232951398213\u001b[39m\n\u001b[0;32m      5\u001b[0m price \u001b[38;5;241m+\u001b[39m\u001b[38;5;241m=\u001b[39m sqm \u001b[38;5;241m*\u001b[39m\u001b[38;5;241m1231.1231231\u001b[39m\n\u001b[1;32m----> 6\u001b[0m price \u001b[38;5;241m+\u001b[39m\u001b[38;5;241m=\u001b[39m \u001b[43mneighborhood\u001b[49m\u001b[43m \u001b[49m\u001b[38;5;241;43m*\u001b[39;49m\u001b[43m \u001b[49m\u001b[38;5;241;43m2.3242341421\u001b[39;49m\n\u001b[0;32m      7\u001b[0m price \u001b[38;5;241m+\u001b[39m\u001b[38;5;241m=\u001b[39m \u001b[38;5;241m201.23432095\u001b[39m\n\u001b[0;32m      8\u001b[0m \u001b[38;5;28;01mreturn\u001b[39;00m price\n",
      "\u001b[1;31mTypeError\u001b[0m: can't multiply sequence by non-int of type 'float'"
     ]
    }
   ],
   "source": [
    "for _, house in df.iterrows():\n",
    "    print(estimate_house_sales_price(house.bedrooms, house.sq_meter, house.neighborhood), house.sales_price)"
   ]
  },
  {
   "cell_type": "code",
   "execution_count": 9,
   "metadata": {},
   "outputs": [],
   "source": [
    "neighborhood_mapping = {\n",
    "    'Skid Row' : 1,\n",
    "    'Normalville' : 2,\n",
    "    'Cool Town' : 3\n",
    "}"
   ]
  },
  {
   "cell_type": "code",
   "execution_count": 10,
   "metadata": {},
   "outputs": [
    {
     "name": "stdout",
     "output_type": "stream",
     "text": [
      "246433 250000\n",
      "98699 300000\n",
      "104853 150000\n",
      "67918 78000\n",
      "246431 150000\n"
     ]
    }
   ],
   "source": [
    "for _, house in df.iterrows():\n",
    "    print(int(estimate_house_sales_price(house.bedrooms, house.sq_meter, neighborhood_mapping[house.neighborhood])), house.sales_price)"
   ]
  },
  {
   "cell_type": "markdown",
   "metadata": {},
   "source": [
    "Calculate absolute error"
   ]
  },
  {
   "cell_type": "code",
   "execution_count": 11,
   "metadata": {},
   "outputs": [
    {
     "data": {
      "text/plain": [
       "[(246433, 250000),\n",
       " (98699, 300000),\n",
       " (104853, 150000),\n",
       " (67918, 78000),\n",
       " (246431, 150000)]"
      ]
     },
     "execution_count": 11,
     "metadata": {},
     "output_type": "execute_result"
    }
   ],
   "source": [
    "predictions = []\n",
    "for _, house in df.iterrows():\n",
    "    predictions.append((int(estimate_house_sales_price(house.bedrooms, house.sq_meter, neighborhood_mapping[house.neighborhood])), house.sales_price))\n",
    "predictions"
   ]
  },
  {
   "cell_type": "code",
   "execution_count": 12,
   "metadata": {},
   "outputs": [
    {
     "data": {
      "text/plain": [
       "[3567, 201301, 45147, 10082, 96431]"
      ]
     },
     "execution_count": 12,
     "metadata": {},
     "output_type": "execute_result"
    }
   ],
   "source": [
    "absolute_errors = []\n",
    "for prediction, price in predictions:\n",
    "    absolute_errors.append(abs(prediction - price))\n",
    "absolute_errors"
   ]
  },
  {
   "cell_type": "code",
   "execution_count": 13,
   "metadata": {},
   "outputs": [
    {
     "data": {
      "text/plain": [
       "[(1, 'a'), (2, 'b'), (3, 'c')]"
      ]
     },
     "execution_count": 13,
     "metadata": {},
     "output_type": "execute_result"
    }
   ],
   "source": [
    "list_a = [1,2,3]\n",
    "list_b = ['a','b','c']\n",
    "\n",
    "list(zip(list_a, list_b))"
   ]
  },
  {
   "cell_type": "code",
   "execution_count": 14,
   "metadata": {},
   "outputs": [],
   "source": [
    "def mean_absolute_error(y_true, y_pread):\n",
    "    assert len(y_true) == len(y_pread), 'length of actual and predicted values must be the same'\n",
    "\n",
    "    absolute_errors = [abs(true_value - pred_value) for true_value, pred_value in zip(y_true, y_pread)]\n",
    "\n",
    "    return sum(absolute_errors) / len(y_true)"
   ]
  },
  {
   "cell_type": "code",
   "execution_count": 15,
   "metadata": {},
   "outputs": [
    {
     "data": {
      "text/plain": [
       "[250000, 300000, 150000, 78000, 150000]"
      ]
     },
     "execution_count": 15,
     "metadata": {},
     "output_type": "execute_result"
    }
   ],
   "source": [
    "real_values = df.sales_price.values.tolist()\n",
    "real_values"
   ]
  },
  {
   "cell_type": "code",
   "execution_count": 16,
   "metadata": {},
   "outputs": [
    {
     "data": {
      "text/plain": [
       "[246433, 98699, 104853, 67918, 246431]"
      ]
     },
     "execution_count": 16,
     "metadata": {},
     "output_type": "execute_result"
    }
   ],
   "source": [
    "# predictions = []\n",
    "# for _, house in df.iterrows():\n",
    "#     predictions.append((int(estimate_house_sales_price(house.bedrooms, house.sq_meter, neighborhood_mapping[house.neighborhood])), house.sales_price))\n",
    "# predictions\n",
    "\n",
    "predicted_values = [int(estimate_house_sales_price(house.bedrooms, house.sq_meter, neighborhood_mapping[house.neighborhood])) for _, house in df.iterrows()]\n",
    "predicted_values"
   ]
  },
  {
   "cell_type": "code",
   "execution_count": 17,
   "metadata": {},
   "outputs": [
    {
     "data": {
      "text/plain": [
       "71305.6"
      ]
     },
     "execution_count": 17,
     "metadata": {},
     "output_type": "execute_result"
    }
   ],
   "source": [
    "mean_absolute_error(real_values, predicted_values)"
   ]
  },
  {
   "cell_type": "markdown",
   "metadata": {},
   "source": [
    "Create a weight dict to start with"
   ]
  },
  {
   "cell_type": "code",
   "execution_count": 18,
   "metadata": {},
   "outputs": [],
   "source": [
    "weights_data = {\n",
    "    'bedroom_weight' : 0.8,\n",
    "    'sqm_weight' : 1.2,\n",
    "    'neighborhood_weight' : 0.5,\n",
    "    'bias' : 200\n",
    "}"
   ]
  },
  {
   "cell_type": "code",
   "execution_count": 19,
   "metadata": {},
   "outputs": [],
   "source": [
    "def estimate_house_sales_price(num_of_bedrooms, sqm, neighborhood, weights):\n",
    "    price = 0\n",
    "\n",
    "    price += num_of_bedrooms * weights['bedroom_weight']\n",
    "    price += sqm * weights['sqm_weight']\n",
    "    price += neighborhood * weights['neighborhood_weight']\n",
    "    price += weights['bias']\n",
    "    return price"
   ]
  },
  {
   "cell_type": "code",
   "execution_count": null,
   "metadata": {},
   "outputs": [],
   "source": [
    "def gradient_descent(X, y, weights, bias, learning_rate, num_iterations):\n",
    "    pass"
   ]
  },
  {
   "cell_type": "markdown",
   "metadata": {},
   "source": [
    "One Hot Encoding"
   ]
  }
 ],
 "metadata": {
  "kernelspec": {
   "display_name": "venv",
   "language": "python",
   "name": "python3"
  },
  "language_info": {
   "codemirror_mode": {
    "name": "ipython",
    "version": 3
   },
   "file_extension": ".py",
   "mimetype": "text/x-python",
   "name": "python",
   "nbconvert_exporter": "python",
   "pygments_lexer": "ipython3",
   "version": "3.11.3"
  }
 },
 "nbformat": 4,
 "nbformat_minor": 2
}
