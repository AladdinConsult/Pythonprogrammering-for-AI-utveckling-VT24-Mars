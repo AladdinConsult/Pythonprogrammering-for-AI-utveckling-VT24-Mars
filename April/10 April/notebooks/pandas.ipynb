{
 "cells": [
  {
   "cell_type": "markdown",
   "id": "1bfce77b",
   "metadata": {},
   "source": [
    "# Introduction to Pandas"
   ]
  },
  {
   "cell_type": "markdown",
   "id": "7714c89b",
   "metadata": {},
   "source": [
    "\n",
    "**Pandas** is a widely-used Python library in data science and analysis. It provides two key data structures - **Series** and **DataFrame** - designed to handle a majority of statistical and machine learning data requirements. Whether you need to manipulate data, perform statistical analysis, or create visualizations, Pandas has become an essential tool for all data-related tasks in Python.\n",
    "\n",
    "Pandas excels in:\n",
    "- Data cleaning\n",
    "- Data transformation\n",
    "- Data analysis\n",
    "- Data visualization\n",
    "    "
   ]
  },
  {
   "cell_type": "markdown",
   "id": "9d655377",
   "metadata": {},
   "source": [
    "## Core Components: Series and DataFrame"
   ]
  },
  {
   "cell_type": "code",
   "execution_count": 2,
   "id": "e312ad32",
   "metadata": {},
   "outputs": [
    {
     "name": "stdout",
     "output_type": "stream",
     "text": [
      "Series:\n",
      "a    1\n",
      "b    2\n",
      "c    3\n",
      "dtype: int64\n",
      "Dataframe:\n",
      "   Column1  Column2\n",
      "0        1        4\n",
      "1        2        5\n",
      "2        3        6\n"
     ]
    }
   ],
   "source": [
    "\n",
    "import pandas as pd\n",
    "\n",
    "# Creating a Series\n",
    "s = pd.Series([1, 2, 3], index=['a', 'b', 'c'])\n",
    "\n",
    "# Creating a DataFrame\n",
    "data = {'Column1': [1, 2, 3], 'Column2': [4, 5, 6]}\n",
    "df = pd.DataFrame(data)\n",
    "print(f'Series:\\n{s}')\n",
    "print(f'Dataframe:\\n{df}')\n",
    "    "
   ]
  },
  {
   "cell_type": "markdown",
   "id": "5fdd024b",
   "metadata": {},
   "source": [
    "\n",
    "A **Series** is akin to a column in a spreadsheet, a one-dimensional array, or a list of values. A **DataFrame**, on the other hand, is a multi-dimensional table made up of a collection of Series.\n",
    "\n",
    "These data structures incorporate a range of underlying functionalities that provide a powerful, high-level interface for manipulating, cleaning, and analyzing data.\n",
    "    "
   ]
  },
  {
   "cell_type": "markdown",
   "id": "3b2dac16",
   "metadata": {},
   "source": [
    "## Importing and Exploring Data"
   ]
  },
  {
   "cell_type": "code",
   "execution_count": 3,
   "id": "b22ca2c0",
   "metadata": {},
   "outputs": [],
   "source": [
    "\n",
    "# Example code for importing and exploring data\n",
    "data = pd.read_csv('../data/sample_data.csv')\n",
    "    "
   ]
  },
  {
   "cell_type": "code",
   "execution_count": 4,
   "id": "0e594d0a",
   "metadata": {},
   "outputs": [
    {
     "data": {
      "text/html": [
       "<div>\n",
       "<style scoped>\n",
       "    .dataframe tbody tr th:only-of-type {\n",
       "        vertical-align: middle;\n",
       "    }\n",
       "\n",
       "    .dataframe tbody tr th {\n",
       "        vertical-align: top;\n",
       "    }\n",
       "\n",
       "    .dataframe thead th {\n",
       "        text-align: right;\n",
       "    }\n",
       "</style>\n",
       "<table border=\"1\" class=\"dataframe\">\n",
       "  <thead>\n",
       "    <tr style=\"text-align: right;\">\n",
       "      <th></th>\n",
       "      <th>Name</th>\n",
       "      <th>Age</th>\n",
       "      <th>Salary</th>\n",
       "      <th>Department</th>\n",
       "    </tr>\n",
       "  </thead>\n",
       "  <tbody>\n",
       "    <tr>\n",
       "      <th>0</th>\n",
       "      <td>John</td>\n",
       "      <td>28</td>\n",
       "      <td>70000.0</td>\n",
       "      <td>HR</td>\n",
       "    </tr>\n",
       "    <tr>\n",
       "      <th>1</th>\n",
       "      <td>Anna</td>\n",
       "      <td>22</td>\n",
       "      <td>NaN</td>\n",
       "      <td>Finance</td>\n",
       "    </tr>\n",
       "    <tr>\n",
       "      <th>2</th>\n",
       "      <td>Peter</td>\n",
       "      <td>35</td>\n",
       "      <td>120000.0</td>\n",
       "      <td>Engineering</td>\n",
       "    </tr>\n",
       "    <tr>\n",
       "      <th>3</th>\n",
       "      <td>Linda</td>\n",
       "      <td>50</td>\n",
       "      <td>110000.0</td>\n",
       "      <td>Management</td>\n",
       "    </tr>\n",
       "    <tr>\n",
       "      <th>4</th>\n",
       "      <td>James</td>\n",
       "      <td>18</td>\n",
       "      <td>55000.0</td>\n",
       "      <td>Intern</td>\n",
       "    </tr>\n",
       "  </tbody>\n",
       "</table>\n",
       "</div>"
      ],
      "text/plain": [
       "    Name  Age    Salary   Department\n",
       "0   John   28   70000.0           HR\n",
       "1   Anna   22       NaN      Finance\n",
       "2  Peter   35  120000.0  Engineering\n",
       "3  Linda   50  110000.0   Management\n",
       "4  James   18   55000.0       Intern"
      ]
     },
     "execution_count": 4,
     "metadata": {},
     "output_type": "execute_result"
    }
   ],
   "source": [
    "# Showing the head of the dataframe\n",
    "data.head()"
   ]
  },
  {
   "cell_type": "code",
   "execution_count": 5,
   "id": "be53d780",
   "metadata": {},
   "outputs": [
    {
     "data": {
      "text/html": [
       "<div>\n",
       "<style scoped>\n",
       "    .dataframe tbody tr th:only-of-type {\n",
       "        vertical-align: middle;\n",
       "    }\n",
       "\n",
       "    .dataframe tbody tr th {\n",
       "        vertical-align: top;\n",
       "    }\n",
       "\n",
       "    .dataframe thead th {\n",
       "        text-align: right;\n",
       "    }\n",
       "</style>\n",
       "<table border=\"1\" class=\"dataframe\">\n",
       "  <thead>\n",
       "    <tr style=\"text-align: right;\">\n",
       "      <th></th>\n",
       "      <th>Age</th>\n",
       "      <th>Salary</th>\n",
       "    </tr>\n",
       "  </thead>\n",
       "  <tbody>\n",
       "    <tr>\n",
       "      <th>count</th>\n",
       "      <td>5.000000</td>\n",
       "      <td>4.00000</td>\n",
       "    </tr>\n",
       "    <tr>\n",
       "      <th>mean</th>\n",
       "      <td>30.600000</td>\n",
       "      <td>88750.00000</td>\n",
       "    </tr>\n",
       "    <tr>\n",
       "      <th>std</th>\n",
       "      <td>12.601587</td>\n",
       "      <td>31191.61212</td>\n",
       "    </tr>\n",
       "    <tr>\n",
       "      <th>min</th>\n",
       "      <td>18.000000</td>\n",
       "      <td>55000.00000</td>\n",
       "    </tr>\n",
       "    <tr>\n",
       "      <th>25%</th>\n",
       "      <td>22.000000</td>\n",
       "      <td>66250.00000</td>\n",
       "    </tr>\n",
       "    <tr>\n",
       "      <th>50%</th>\n",
       "      <td>28.000000</td>\n",
       "      <td>90000.00000</td>\n",
       "    </tr>\n",
       "    <tr>\n",
       "      <th>75%</th>\n",
       "      <td>35.000000</td>\n",
       "      <td>112500.00000</td>\n",
       "    </tr>\n",
       "    <tr>\n",
       "      <th>max</th>\n",
       "      <td>50.000000</td>\n",
       "      <td>120000.00000</td>\n",
       "    </tr>\n",
       "  </tbody>\n",
       "</table>\n",
       "</div>"
      ],
      "text/plain": [
       "             Age        Salary\n",
       "count   5.000000       4.00000\n",
       "mean   30.600000   88750.00000\n",
       "std    12.601587   31191.61212\n",
       "min    18.000000   55000.00000\n",
       "25%    22.000000   66250.00000\n",
       "50%    28.000000   90000.00000\n",
       "75%    35.000000  112500.00000\n",
       "max    50.000000  120000.00000"
      ]
     },
     "execution_count": 5,
     "metadata": {},
     "output_type": "execute_result"
    }
   ],
   "source": [
    "# Describe the dataframe\n",
    "data.describe()"
   ]
  },
  {
   "cell_type": "code",
   "execution_count": 21,
   "id": "4cc266b7",
   "metadata": {},
   "outputs": [
    {
     "name": "stdout",
     "output_type": "stream",
     "text": [
      "<class 'pandas.core.frame.DataFrame'>\n",
      "RangeIndex: 5 entries, 0 to 4\n",
      "Data columns (total 4 columns):\n",
      " #   Column      Non-Null Count  Dtype  \n",
      "---  ------      --------------  -----  \n",
      " 0   Name        5 non-null      object \n",
      " 1   Age         5 non-null      int64  \n",
      " 2   Salary      4 non-null      float64\n",
      " 3   Department  5 non-null      object \n",
      "dtypes: float64(1), int64(1), object(2)\n",
      "memory usage: 292.0+ bytes\n"
     ]
    }
   ],
   "source": [
    "# Info about the dataframe\n",
    "data.info()"
   ]
  },
  {
   "cell_type": "markdown",
   "id": "0a04868d",
   "metadata": {},
   "source": [
    "\n",
    "Data importing is simplified with Pandas, providing functionality to read data from various formats like CSV, Excel, SQL databases, and more. Initial data exploration is crucial to understand the data structure, and Pandas provides methods like `head()`, `describe()`, and `info()` for a quick overview of the data.\n",
    "    "
   ]
  },
  {
   "cell_type": "markdown",
   "id": "f02d4151",
   "metadata": {},
   "source": [
    "## Data Cleaning and Preprocessing"
   ]
  },
  {
   "cell_type": "code",
   "execution_count": 6,
   "id": "7c1f6a7d",
   "metadata": {},
   "outputs": [],
   "source": [
    "\n",
    "# Handling missing values in 'Salary'\n",
    "data['Salary'].fillna(data['Salary'].mean(), inplace=True)  # Filling NaN with mean of 'Salary'\n",
    "\n",
    "# Ensure 'Age' and 'Salary' are of numeric types if performing mathematical operations\n",
    "data[['Age', 'Salary']] = data[['Age', 'Salary']].apply(pd.to_numeric, errors='coerce', axis=1)\n",
    "\n",
    "# Now, your operations should work without issues\n",
    "data_clean = data.dropna()\n",
    "filtered_data = data_clean[data_clean['Age'] > 25]\n",
    "grouped_data = data_clean.groupby('Department')['Salary'].mean()\n",
    "    "
   ]
  },
  {
   "cell_type": "code",
   "execution_count": 7,
   "id": "8cbcbdde",
   "metadata": {},
   "outputs": [
    {
     "data": {
      "text/html": [
       "<div>\n",
       "<style scoped>\n",
       "    .dataframe tbody tr th:only-of-type {\n",
       "        vertical-align: middle;\n",
       "    }\n",
       "\n",
       "    .dataframe tbody tr th {\n",
       "        vertical-align: top;\n",
       "    }\n",
       "\n",
       "    .dataframe thead th {\n",
       "        text-align: right;\n",
       "    }\n",
       "</style>\n",
       "<table border=\"1\" class=\"dataframe\">\n",
       "  <thead>\n",
       "    <tr style=\"text-align: right;\">\n",
       "      <th></th>\n",
       "      <th>Name</th>\n",
       "      <th>Age</th>\n",
       "      <th>Salary</th>\n",
       "      <th>Department</th>\n",
       "    </tr>\n",
       "  </thead>\n",
       "  <tbody>\n",
       "    <tr>\n",
       "      <th>0</th>\n",
       "      <td>John</td>\n",
       "      <td>28.0</td>\n",
       "      <td>70000.0</td>\n",
       "      <td>HR</td>\n",
       "    </tr>\n",
       "    <tr>\n",
       "      <th>1</th>\n",
       "      <td>Anna</td>\n",
       "      <td>22.0</td>\n",
       "      <td>88750.0</td>\n",
       "      <td>Finance</td>\n",
       "    </tr>\n",
       "    <tr>\n",
       "      <th>2</th>\n",
       "      <td>Peter</td>\n",
       "      <td>35.0</td>\n",
       "      <td>120000.0</td>\n",
       "      <td>Engineering</td>\n",
       "    </tr>\n",
       "    <tr>\n",
       "      <th>3</th>\n",
       "      <td>Linda</td>\n",
       "      <td>50.0</td>\n",
       "      <td>110000.0</td>\n",
       "      <td>Management</td>\n",
       "    </tr>\n",
       "    <tr>\n",
       "      <th>4</th>\n",
       "      <td>James</td>\n",
       "      <td>18.0</td>\n",
       "      <td>55000.0</td>\n",
       "      <td>Intern</td>\n",
       "    </tr>\n",
       "  </tbody>\n",
       "</table>\n",
       "</div>"
      ],
      "text/plain": [
       "    Name   Age    Salary   Department\n",
       "0   John  28.0   70000.0           HR\n",
       "1   Anna  22.0   88750.0      Finance\n",
       "2  Peter  35.0  120000.0  Engineering\n",
       "3  Linda  50.0  110000.0   Management\n",
       "4  James  18.0   55000.0       Intern"
      ]
     },
     "execution_count": 7,
     "metadata": {},
     "output_type": "execute_result"
    }
   ],
   "source": [
    "data_clean"
   ]
  },
  {
   "cell_type": "code",
   "execution_count": 8,
   "id": "584ca9e3",
   "metadata": {},
   "outputs": [
    {
     "data": {
      "text/html": [
       "<div>\n",
       "<style scoped>\n",
       "    .dataframe tbody tr th:only-of-type {\n",
       "        vertical-align: middle;\n",
       "    }\n",
       "\n",
       "    .dataframe tbody tr th {\n",
       "        vertical-align: top;\n",
       "    }\n",
       "\n",
       "    .dataframe thead th {\n",
       "        text-align: right;\n",
       "    }\n",
       "</style>\n",
       "<table border=\"1\" class=\"dataframe\">\n",
       "  <thead>\n",
       "    <tr style=\"text-align: right;\">\n",
       "      <th></th>\n",
       "      <th>Name</th>\n",
       "      <th>Age</th>\n",
       "      <th>Salary</th>\n",
       "      <th>Department</th>\n",
       "    </tr>\n",
       "  </thead>\n",
       "  <tbody>\n",
       "    <tr>\n",
       "      <th>0</th>\n",
       "      <td>John</td>\n",
       "      <td>28.0</td>\n",
       "      <td>70000.0</td>\n",
       "      <td>HR</td>\n",
       "    </tr>\n",
       "    <tr>\n",
       "      <th>2</th>\n",
       "      <td>Peter</td>\n",
       "      <td>35.0</td>\n",
       "      <td>120000.0</td>\n",
       "      <td>Engineering</td>\n",
       "    </tr>\n",
       "    <tr>\n",
       "      <th>3</th>\n",
       "      <td>Linda</td>\n",
       "      <td>50.0</td>\n",
       "      <td>110000.0</td>\n",
       "      <td>Management</td>\n",
       "    </tr>\n",
       "  </tbody>\n",
       "</table>\n",
       "</div>"
      ],
      "text/plain": [
       "    Name   Age    Salary   Department\n",
       "0   John  28.0   70000.0           HR\n",
       "2  Peter  35.0  120000.0  Engineering\n",
       "3  Linda  50.0  110000.0   Management"
      ]
     },
     "execution_count": 8,
     "metadata": {},
     "output_type": "execute_result"
    }
   ],
   "source": [
    "filtered_data"
   ]
  },
  {
   "cell_type": "code",
   "execution_count": 9,
   "id": "b3221c71",
   "metadata": {},
   "outputs": [
    {
     "data": {
      "text/plain": [
       "Department\n",
       "Engineering    120000.0\n",
       "Finance         88750.0\n",
       "HR              70000.0\n",
       "Intern          55000.0\n",
       "Management     110000.0\n",
       "Name: Salary, dtype: float64"
      ]
     },
     "execution_count": 9,
     "metadata": {},
     "output_type": "execute_result"
    }
   ],
   "source": [
    "grouped_data"
   ]
  },
  {
   "cell_type": "markdown",
   "id": "8276d850",
   "metadata": {},
   "source": [
    "\n",
    "The real-world data is often messy. Pandas provides a variety of methods to help clean and preprocess data, making it ready for analysis. From handling missing data, filtering rows/columns, to grouping and reshaping data, Pandas provides a versatile toolkit for data cleaning and preprocessing.\n",
    "    "
   ]
  },
  {
   "cell_type": "markdown",
   "id": "d99c6f77",
   "metadata": {},
   "source": [
    "## Data Analysis and Visualization with Pandas"
   ]
  },
  {
   "cell_type": "code",
   "execution_count": 31,
   "id": "7f9c979c",
   "metadata": {},
   "outputs": [
    {
     "data": {
      "image/png": "[encoded data removed]",
      "text/plain": [
       "<Figure size 640x480 with 1 Axes>"
      ]
     },
     "metadata": {},
     "output_type": "display_data"
    }
   ],
   "source": [
    "\n",
    "# Example code for basic statistical analysis and visualization\n",
    "data.describe()\n",
    "data.sum()\n",
    "data['Age'].mean()\n",
    "\n",
    "# Visualization using Matplotlib\n",
    "import matplotlib.pyplot as plt\n",
    "data['Age'].plot()\n",
    "plt.show()\n",
    "    "
   ]
  },
  {
   "cell_type": "markdown",
   "id": "0c495704",
   "metadata": {},
   "source": [
    "\n",
    "Pandas seamlessly integrates with **Matplotlib**, providing a high-level interface for creating a variety of static, animated, and interactive visualizations in Python. The library allows for detailed statistical analysis alongside straightforward visualization capabilities, making it possible to conduct thorough data analysis right out of the box.\n",
    "    "
   ]
  },
  {
   "cell_type": "markdown",
   "id": "2c212da7",
   "metadata": {},
   "source": [
    "### Iterating Over a DataFrame\n",
    "\n",
    "Iterating over a DataFrame in Pandas can be achieved using several methods, each with its own use case and performance implications. Below are some common methods for iterating over rows in a DataFrame:\n",
    "\n",
    "#### 1. `iterrows()`\n",
    "\n",
    "The `iterrows()` method returns an iterator yielding pairs of (index, Series) for each row in the DataFrame. It's commonly used due to its simplicity and readability.\n"
   ]
  },
  {
   "cell_type": "code",
   "execution_count": 32,
   "id": "21f872af",
   "metadata": {},
   "outputs": [
    {
     "name": "stdout",
     "output_type": "stream",
     "text": [
      "Index: 0, Name: John, Age: 28\n",
      "Index: 1, Name: Anna, Age: 22\n",
      "Index: 2, Name: Peter, Age: 35\n"
     ]
    }
   ],
   "source": [
    "import pandas as pd\n",
    "\n",
    "# Example DataFrame\n",
    "data = {\n",
    "    'Name': ['John', 'Anna', 'Peter'],\n",
    "    'Age': [28, 22, 35],\n",
    "}\n",
    "df = pd.DataFrame(data)\n",
    "\n",
    "# Iterating using iterrows()\n",
    "for index, row in df.iterrows():\n",
    "    print(f\"Index: {index}, Name: {row['Name']}, Age: {row['Age']}\")\n"
   ]
  },
  {
   "cell_type": "markdown",
   "id": "908d31db",
   "metadata": {},
   "source": [
    "\n",
    "\n",
    "**Note:** While `iterrows()` is intuitive, it's not always the best choice in terms of performance, especially with large DataFrames, since it returns a Series object for each row which can be memory-intensive.\n",
    "\n",
    "#### 2. `itertuples()`\n",
    "\n",
    "`itertuples()` returns an iterator yielding namedtuples of the rows. It's generally faster than `iterrows()` and is memory-efficient since it does not convert the rows to Series objects.\n"
   ]
  },
  {
   "cell_type": "code",
   "execution_count": 33,
   "id": "5264e8b7",
   "metadata": {},
   "outputs": [
    {
     "name": "stdout",
     "output_type": "stream",
     "text": [
      "Index: 0, Name: John, Age: 28\n",
      "Index: 1, Name: Anna, Age: 22\n",
      "Index: 2, Name: Peter, Age: 35\n"
     ]
    }
   ],
   "source": [
    "# Iterating using itertuples()\n",
    "for row in df.itertuples():\n",
    "    print(f\"Index: {row.Index}, Name: {row.Name}, Age: {row.Age}\")\n"
   ]
  },
  {
   "cell_type": "markdown",
   "id": "8a6e4e2c",
   "metadata": {},
   "source": [
    "\n",
    "\n",
    "#### 3. `apply()`\n",
    "\n",
    "While not exactly a method for iteration, `apply()` can be used to apply a function along the axis of the DataFrame, which can sometimes be used to achieve the same result as iterating through each row, but in a more Pandas-idiomatic way.\n",
    "\n"
   ]
  },
  {
   "cell_type": "code",
   "execution_count": 36,
   "id": "96280cca",
   "metadata": {},
   "outputs": [
    {
     "name": "stdout",
     "output_type": "stream",
     "text": [
      "Name: John, Age: 28\n",
      "Name: Anna, Age: 22\n",
      "Name: Peter, Age: 35\n"
     ]
    }
   ],
   "source": [
    "# Using apply() to operate on each row\n",
    "def process_row(row):\n",
    "    print(f\"Name: {row['Name']}, Age: {row['Age']}\")\n",
    "    \n",
    "_ = df.apply(process_row, axis=1) # The _ = is to prevent it from printing None values"
   ]
  },
  {
   "cell_type": "markdown",
   "id": "ea5b2bd4",
   "metadata": {},
   "source": [
    "### Considerations\n",
    "\n",
    "- **Performance:** Be mindful of the performance implications when choosing an iteration method, especially with large datasets.\n",
    "- **Vectorization:** Often, operations can be vectorized (applying an operation to the whole column at once), which is more efficient than iteration in Pandas. Always explore if an operation can be performed without iterating through the DataFrame.\n",
    "- **Modification Warning:** Be cautious while trying to modify DataFrames during iteration, as it might not always have the desired effect and is generally discouraged.\n",
    "\n",
    "In practice, always consider vectorized operations or using `apply()` before opting for iteration to leverage the powerful and efficient functionality provided by Pandas."
   ]
  },
  {
   "cell_type": "markdown",
   "id": "98758e80",
   "metadata": {},
   "source": [
    "### Understanding the `axis` Parameter in Pandas\n",
    "\n",
    "In Pandas, the `axis` parameter is frequently used in various methods (`apply()`, `drop()`, `mean()`, etc.) to specify the direction of an operation. Essentially, it indicates whether the operation should be applied vertically or horizontally, across rows or columns. \n",
    "\n",
    "- `axis=0` or `axis='index'`: Apply an operation along the index, i.e., **vertically** across **rows**.\n",
    "- `axis=1` or `axis='columns'`: Apply an operation along the columns, i.e., **horizontally** across **columns**.\n",
    "\n",
    "#### Understanding `axis` through Examples\n",
    "\n",
    "##### Example 1: Using `apply()`\n",
    "When using `apply()`, `axis=1` applies the function to each row, whereas `axis=0` applies the function to each column.\n"
   ]
  },
  {
   "cell_type": "code",
   "execution_count": 37,
   "id": "4b43b6f2",
   "metadata": {},
   "outputs": [
    {
     "name": "stdout",
     "output_type": "stream",
     "text": [
      "Sum across each column:\n",
      "A     6\n",
      "B    15\n",
      "dtype: int64\n",
      "\n",
      "Sum across each row:\n",
      "0    5\n",
      "1    7\n",
      "2    9\n",
      "dtype: int64\n",
      "\n"
     ]
    }
   ],
   "source": [
    "import pandas as pd\n",
    "\n",
    "# Example DataFrame\n",
    "data = {'A': [1, 2, 3], 'B': [4, 5, 6]}\n",
    "df = pd.DataFrame(data)\n",
    "\n",
    "# Applying a function across each column (axis=0)\n",
    "column_sum = df.apply(sum, axis=0)\n",
    "print(f\"Sum across each column:\\n{column_sum}\\n\")\n",
    "\n",
    "# Applying a function across each row (axis=1)\n",
    "row_sum = df.apply(sum, axis=1)\n",
    "print(f\"Sum across each row:\\n{row_sum}\\n\")\n"
   ]
  },
  {
   "cell_type": "markdown",
   "id": "46fb9707",
   "metadata": {},
   "source": [
    "##### Example 2: Using `drop()`\n",
    "When using `drop()`, `axis=1` drops a column, and `axis=0` drops a row.\n"
   ]
  },
  {
   "cell_type": "code",
   "execution_count": 41,
   "id": "edd13a49",
   "metadata": {},
   "outputs": [
    {
     "name": "stdout",
     "output_type": "stream",
     "text": [
      "Original\n",
      "   A  B\n",
      "0  1  4\n",
      "1  2  5\n",
      "2  3  6\n",
      "Dropped Column\n",
      "   B\n",
      "0  4\n",
      "1  5\n",
      "2  6\n",
      "Dropped Row\n",
      "   A  B\n",
      "0  1  4\n",
      "2  3  6\n"
     ]
    }
   ],
   "source": [
    "print('Original')\n",
    "print(df)\n",
    "\n",
    "# Dropping a column (axis=1)\n",
    "df_dropped_column = df.drop('A', axis=1)\n",
    "\n",
    "# Dropping a row (axis=0)\n",
    "df_dropped_row = df.drop(1, axis=0)\n",
    "\n",
    "print('Dropped Column')\n",
    "print(df_dropped_column)\n",
    "\n",
    "print('Dropped Row')\n",
    "print(df_dropped_row)"
   ]
  },
  {
   "cell_type": "markdown",
   "id": "35f9e9a3",
   "metadata": {},
   "source": [
    "##### Example 3: Using `mean()`\n",
    "When using statistical methods like `mean()`, `axis=1` computes the mean across columns, and `axis=0` computes it down the rows.\n"
   ]
  },
  {
   "cell_type": "code",
   "execution_count": 43,
   "id": "2abdf583",
   "metadata": {},
   "outputs": [
    {
     "name": "stdout",
     "output_type": "stream",
     "text": [
      "A    2.0\n",
      "B    5.0\n",
      "dtype: float64\n",
      "0    2.5\n",
      "1    3.5\n",
      "2    4.5\n",
      "dtype: float64\n"
     ]
    }
   ],
   "source": [
    "# Mean of each column (axis=0)\n",
    "column_mean = df.mean(axis=0)\n",
    "\n",
    "# Mean of each row (axis=1)\n",
    "row_mean = df.mean(axis=1)\n",
    "print(column_mean)\n",
    "print(row_mean)\n"
   ]
  },
  {
   "cell_type": "markdown",
   "id": "1218c7c4",
   "metadata": {},
   "source": [
    "### Tips:\n",
    "- **Row-wise Operation:** Think \"I want to apply this function along the row,\" then use `axis=1`.\n",
    "- **Column-wise Operation:** Think \"I want to apply this function down the column,\" then use `axis=0`.\n",
    "\n",
    "Understanding the `axis` parameter is crucial for utilizing Pandas effectively as it's widely used across numerous methods. Always refer back to the axis logic: `axis=0` operates down the rows (think column-wise operation), and `axis=1` operates across the columns (think row-wise operation)."
   ]
  },
  {
   "cell_type": "markdown",
   "id": "af4b696e",
   "metadata": {},
   "source": [
    "### Leveraging `loc` and `iloc` in Pandas\n",
    "\n",
    "Pandas provides two robust indexing methods: `loc` and `iloc`, which are used to access a group of rows and columns by labels or boolean arrays (`loc`) and by integer indexes (`iloc`). These methods enable more advanced and specific data selection and assignment, enhancing the efficiency of data manipulation.\n",
    "\n",
    "#### 1. `loc`: Label-based Data Selection\n",
    "`loc` is primarily label-based indexing. It's used to access a group of rows and columns by labels or a boolean array. It allows you to select data using row and column labels and conditions.\n",
    "\n",
    "- **Selecting Single Row by Label:** `df.loc[row_label]`\n",
    "- **Selecting Rows and Specific Columns by Label:** `df.loc[row_label, column_label]`\n",
    "- **Conditional Selection:** `df.loc[df['Column'] condition]`\n",
    "\n",
    "##### Example Usage of `loc`:\n"
   ]
  },
  {
   "cell_type": "code",
   "execution_count": 45,
   "id": "4e089d92",
   "metadata": {},
   "outputs": [
    {
     "name": "stdout",
     "output_type": "stream",
     "text": [
      "Age          28\n",
      "Salary    70000\n",
      "Name: John, dtype: int64 \n",
      "\n",
      "Anna     22\n",
      "Linda    50\n",
      "Name: Age, dtype: int64 \n",
      "\n",
      "       Age  Salary\n",
      "Peter   35  120000\n",
      "Linda   50  110000 \n",
      "\n"
     ]
    }
   ],
   "source": [
    "import pandas as pd\n",
    "\n",
    "data = {'Age': [28, 22, 35, 50], 'Salary': [70000, 72000, 120000, 110000]}\n",
    "df = pd.DataFrame(data, index=['John', 'Anna', 'Peter', 'Linda'])\n",
    "\n",
    "# Selecting a single row by label\n",
    "johns_data = df.loc['John']\n",
    "\n",
    "print(johns_data, '\\n')\n",
    "\n",
    "# Selecting multiple rows and specific columns by label\n",
    "subset_data = df.loc[['Anna', 'Linda'], 'Age']\n",
    "print(subset_data, '\\n')\n",
    "\n",
    "# Conditional selection\n",
    "high_salary = df.loc[df['Salary'] > 100000]\n",
    "print(high_salary, '\\n')\n"
   ]
  },
  {
   "cell_type": "markdown",
   "id": "da1763f6",
   "metadata": {},
   "source": [
    "#### 2. `iloc`: Integer-location based Indexing\n",
    "`iloc` is primarily integer-location based indexing. It's used to select elements by their index location (integer values). `iloc` allows you to select data using row and column index positions.\n",
    "\n",
    "- **Selecting Single Row by Index:** `df.iloc[row_index]`\n",
    "- **Selecting Specific Rows and Columns by Index:** `df.iloc[row_index, column_index]`\n",
    "- **Slicing:** `df.iloc[row_start_index:row_end_index, column_start_index:column_end_index]`\n",
    "\n",
    "##### Example Usage of `iloc`:\n"
   ]
  },
  {
   "cell_type": "code",
   "execution_count": 46,
   "id": "fbcc24a1",
   "metadata": {},
   "outputs": [
    {
     "name": "stdout",
     "output_type": "stream",
     "text": [
      "Age          28\n",
      "Salary    70000\n",
      "Name: John, dtype: int64 \n",
      "\n",
      "Anna     22\n",
      "Peter    35\n",
      "Name: Age, dtype: int64 \n",
      "\n",
      "       Age  Salary\n",
      "Anna    22   72000\n",
      "Peter   35  120000 \n",
      "\n"
     ]
    }
   ],
   "source": [
    "# Selecting a single row by index\n",
    "first_row = df.iloc[0]\n",
    "\n",
    "print(first_row, '\\n')\n",
    "\n",
    "# Selecting specific rows and columns by index\n",
    "subset_data = df.iloc[1:3, 0]\n",
    "\n",
    "print(subset_data, '\\n')\n",
    "\n",
    "# Selecting specific rows and all columns\n",
    "specific_rows = df.iloc[1:3, :]\n",
    "print(specific_rows, '\\n')"
   ]
  },
  {
   "cell_type": "markdown",
   "id": "e616e353",
   "metadata": {},
   "source": [
    "### Points to Remember:\n",
    "- **Boolean Indexing:** Both `loc` and `iloc` support boolean indexing to filter rows.\n",
    "- **Setting Values:** `loc` and `iloc` can also be used to modify values within the DataFrame.\n",
    "- **Avoid Chained Indexing:** Utilize `loc` or `iloc` to avoid chained indexing (e.g., `df[row][column]`) which may lead to unexpected results.\n",
    "\n",
    "Understanding and effectively using `loc` and `iloc` is pivotal in achieving more precise and efficient data selection, enhancing your data analysis and manipulation capabilities in Pandas."
   ]
  }
 ],
 "metadata": {
  "kernelspec": {
   "display_name": "venv",
   "language": "python",
   "name": "python3"
  },
  "language_info": {
   "codemirror_mode": {
    "name": "ipython",
    "version": 3
   },
   "file_extension": ".py",
   "mimetype": "text/x-python",
   "name": "python",
   "nbconvert_exporter": "python",
   "pygments_lexer": "ipython3",
   "version": "3.11.3"
  }
 },
 "nbformat": 4,
 "nbformat_minor": 5
}
