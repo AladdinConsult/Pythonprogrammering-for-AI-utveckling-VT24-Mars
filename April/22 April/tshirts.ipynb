{
 "cells": [
  {
   "cell_type": "markdown",
   "metadata": {},
   "source": [
    "# Predicting T-shirt size using the ANSUR II dataset\n",
    "We will here try to predict a persons t-shirt size given the weight and height of the person. We will use the ANSUR II dataset which contains a lot of information about the physical attributes of a large number of people. \n",
    "\n",
    "We will first try to map the persons in the dataset to a t-shirt size. It is hard to find a concise size chart for t-shirt so we will create our own, initial chart, based on these assumptions:\n",
    "\n",
    "We will only look at two measurements, Shoulder Width and Chest Circumference.\n",
    "\n",
    "Our first problem is that Shoulder Width is not one of the measurements taken in the dataset. But we have Biacromial Breadth which is the distance between the two acromion processes. We will assume that this is the same as Shoulder Width.\n",
    "\n",
    "We will then have these initial rules:\n",
    "\n",
    "| Size | Percentile |\n",
    "|------|------------|\n",
    "| XS   | 0-5        |\n",
    "| S    | 5-25       |\n",
    "| M    | 25-50      |\n",
    "| L    | 50-75      |\n",
    "| XL   | 75-90      |\n",
    "| XXL  | 90-97      |\n",
    "| XXXL | 97-100     |"
   ]
  },
  {
   "cell_type": "markdown",
   "metadata": {},
   "source": [
    "## Inspect the data"
   ]
  },
  {
   "cell_type": "code",
   "execution_count": 30,
   "metadata": {},
   "outputs": [],
   "source": [
    "import pandas as pd\n",
    "\n",
    "female = pd.read_csv('./data/female.csv')\n",
    "male = pd.read_csv('./data/male.csv')\n"
   ]
  },
  {
   "cell_type": "code",
   "execution_count": 31,
   "metadata": {},
   "outputs": [
    {
     "name": "stdout",
     "output_type": "stream",
     "text": [
      "For women we have (rows, columns) (1986, 108)\n",
      "For men we have (rows, columns) (4082, 108)\n"
     ]
    }
   ],
   "source": [
    "print(f'For women we have (rows, columns) {female.shape}')\n",
    "print(f'For men we have (rows, columns) {male.shape}')\n"
   ]
  },
  {
   "cell_type": "markdown",
   "metadata": {},
   "source": [
    "## Checking the percentiles\n",
    "\n",
    "Let us determine the percentiles of the data."
   ]
  },
  {
   "cell_type": "code",
   "execution_count": 32,
   "metadata": {},
   "outputs": [
    {
     "name": "stdout",
     "output_type": "stream",
     "text": [
      "{(0, 5): 100, (5, 25): 396, (25, 50): 492, (50, 75): 499, (75, 90): 299, (90, 97): 140, (97, 100): 59}\n",
      "{(0, 5): 93, (5, 25): 377, (25, 50): 477, (50, 75): 541, (75, 90): 297, (90, 97): 139, (97, 100): 61}\n",
      "{(0, 5): 199, (5, 25): 810, (25, 50): 1025, (50, 75): 1012, (75, 90): 616, (90, 97): 295, (97, 100): 124}\n",
      "{(0, 5): 191, (5, 25): 787, (25, 50): 989, (50, 75): 1079, (75, 90): 610, (90, 97): 303, (97, 100): 122}\n"
     ]
    }
   ],
   "source": [
    "def compute_percentile_ranges(column):\n",
    "    # Define percentile ranges\n",
    "    ranges = [(0,5), (5,25), (25, 50), (50, 75), (75, 90), (90,97), (97,100)]\n",
    "\n",
    "    # Beräkna percentiler för varje specificerat intervall\n",
    "    percentiles = {(low, high): (column.quantile(low/100), column.quantile(high/100)) for low, high in ranges}\n",
    "\n",
    "    # Räkna antalet poster som faller inmom varje percentilintervall\n",
    "    counts = {}\n",
    "\n",
    "    for r, (low,high) in percentiles.items():\n",
    "        counts[r] = ((column >= low) & (column < high)).sum()\n",
    "    return counts\n",
    "\n",
    "# Beräkna och skriv ut percentilintervall för kvinnor och mäns bröskrets och biakromialbredd\n",
    "print(compute_percentile_ranges(female['chestcircumference']))\n",
    "print(compute_percentile_ranges(female['biacromialbreadth']))\n",
    "\n",
    "print(compute_percentile_ranges(male['chestcircumference']))\n",
    "print(compute_percentile_ranges(male['biacromialbreadth']))\n",
    "\n",
    "\n",
    "\n",
    "\n"
   ]
  },
  {
   "cell_type": "markdown",
   "metadata": {},
   "source": [
    "## Generate the t-shirt size chart"
   ]
  },
  {
   "cell_type": "code",
   "execution_count": 33,
   "metadata": {},
   "outputs": [
    {
     "name": "stdout",
     "output_type": "stream",
     "text": [
      "{'XS': {'Chest': 283, 'Shoulder': 283}, 'S': {'Chest': 335, 'Shoulder': 335}, 'M': {'Chest': 353, 'Shoulder': 353}, 'L': {'Chest': 365, 'Shoulder': 365}, 'XL': {'Chest': 378, 'Shoulder': 378}, '2XL': {'Chest': 389, 'Shoulder': 389}, '3XL': {'Chest': 400, 'Shoulder': 400}}\n",
      "{'XS': {'Chest': 774, 'Shoulder': 337}, 'S': {'Chest': 922, 'Shoulder': 384}, 'M': {'Chest': 996, 'Shoulder': 403}, 'L': {'Chest': 1056, 'Shoulder': 415}, 'XL': {'Chest': 1117, 'Shoulder': 428}, '2XL': {'Chest': 1172, 'Shoulder': 441}, '3XL': {'Chest': 1233, 'Shoulder': 452}}\n"
     ]
    }
   ],
   "source": [
    "def compute_size_percentile_measurments(data, chest_column, shoulder_column):\n",
    "    sizes = ['XS', 'S', 'M', 'L', 'XL', '2XL', '3XL']\n",
    "    ranges = [0, 5, 25, 50, 75, 90, 97]\n",
    "\n",
    "    # Compute the values for each percentile for chest and shoulder\n",
    "    # Beräkna kvantilvärden för bröst- och axelmått\n",
    "    chest_percentiles = {p: data[chest_column].quantile(p/100) for p in ranges}\n",
    "    shoulder_percentiles = {p: data[shoulder_column].quantile(p/100) for p in ranges}\n",
    "    \n",
    "    # Map the t-shirt sizes to the corresponding chest and shoulder measurments\n",
    "    # Tilldela varje storlek till det beräknade måttet från percentilerna\n",
    "    size_mappings = {}\n",
    "    for i, size in enumerate(sizes):\n",
    "        size_mappings[size] = {\n",
    "            'Chest' : int(chest_percentiles[ranges[i]]),\n",
    "            'Shoulder': int(shoulder_percentiles[ranges[i]])\n",
    "        }\n",
    "    return size_mappings\n",
    "\n",
    "\n",
    "print(compute_size_percentile_measurments(female, 'biacromialbreadth', 'biacromialbreadth'))\n",
    "print(compute_size_percentile_measurments(male, 'chestcircumference', 'biacromialbreadth'))\n",
    "\n"
   ]
  },
  {
   "cell_type": "code",
   "execution_count": 34,
   "metadata": {},
   "outputs": [],
   "source": [
    "female_sizes = {\n",
    "    'XS': {'Chest': 695, 'Shoulder': 283}, \n",
    "    'S': {'Chest': 824, 'Shoulder': 335}, \n",
    "    'M': {'Chest': 889, 'Shoulder': 353}, \n",
    "    'L': {'Chest': 940, 'Shoulder': 365}, \n",
    "    'XL': {'Chest': 999, 'Shoulder': 378}, \n",
    "    '2XL': {'Chest': 1057, 'Shoulder': 389}, \n",
    "    '3XL': {'Chest': 1117, 'Shoulder': 400}\n",
    "    }\n",
    "\n",
    "male_sizes = {\n",
    "    'XS': {'Chest': 774, 'Shoulder': 337}, \n",
    "    'S': {'Chest': 922, 'Shoulder': 384}, \n",
    "    'M': {'Chest': 996, 'Shoulder': 403}, \n",
    "    'L': {'Chest': 1056, 'Shoulder': 415}, \n",
    "    'XL': {'Chest': 1117, 'Shoulder': 428}, \n",
    "    '2XL': {'Chest': 1172, 'Shoulder': 441}, \n",
    "    '3XL': {'Chest': 1233, 'Shoulder': 452}\n",
    "    }\n",
    "    "
   ]
  },
  {
   "cell_type": "code",
   "execution_count": 35,
   "metadata": {},
   "outputs": [],
   "source": [
    "def get_size(data, size_chart): \n",
    "    # Skapa en dict. för att räkna antalet matchningar för varje storlek\n",
    "    matches = {size: 0 for size in size_chart.keys()}\n",
    "    #Variabel för att räkna antalet situationerdär det finns flera möjliga storlekar\n",
    "    ties = 0\n",
    "\n",
    "    # Loopa igenom varje rad i data\n",
    "    for _, row in data.iterrows():\n",
    "        # Lista för att hålla de möjliga storlekarna för den aktuella personen\n",
    "        possible_sizes = []\n",
    "\n",
    "        # Loopa igenom varje storlek i strlk.tabellen\n",
    "        for size, measurments in size_chart.items():\n",
    "            # Kontrollera om personens mått passar inom måttet för den aktuella strlk.\n",
    "            if (row['biacromialbreadth'] <= measurments['Shoulder'] and\n",
    "                row['chestcircumference'] <= measurments['Chest']):\n",
    "                possible_sizes.append(size)\n",
    "\n",
    "        # Om det bara finns en möjlig strlk., öka räknaren för den storleken\n",
    "        if len(possible_sizes) == 1:\n",
    "                matches[possible_sizes[0]] += 1\n",
    "        # Om det finns flera möjliga strlkar, öka räknaren för ties\n",
    "        elif len(possible_sizes) > 1: \n",
    "                ties += 1\n",
    "    \n",
    "    return matches, ties"
   ]
  },
  {
   "cell_type": "code",
   "execution_count": 36,
   "metadata": {},
   "outputs": [
    {
     "name": "stdout",
     "output_type": "stream",
     "text": [
      "Female matches: {'XS': 0, 'S': 0, 'M': 0, 'L': 0, 'XL': 0, '2XL': 0, '3XL': 236}\n",
      "Female ties: 1642\n",
      "Male matches: {'XS': 0, 'S': 0, 'M': 0, 'L': 0, 'XL': 0, '2XL': 0, '3XL': 434}\n",
      "Male ties: 3437\n"
     ]
    }
   ],
   "source": [
    "female_matches, female_ties = get_size(female, female_sizes)\n",
    "male_matches, male_ties = get_size(male, male_sizes)\n",
    "\n",
    "print('Female matches:', female_matches)\n",
    "print('Female ties:', female_ties)\n",
    "print('Male matches:', male_matches)\n",
    "print('Male ties:', male_ties)\n",
    "\n"
   ]
  },
  {
   "cell_type": "markdown",
   "metadata": {},
   "source": [
    "This is not good. Let us have overlapping measurments."
   ]
  },
  {
   "cell_type": "code",
   "execution_count": 37,
   "metadata": {},
   "outputs": [],
   "source": [
    "def create_overlapping_size_chart(original_chart):\n",
    "    overlapping_chart = {}\n",
    "\n",
    "    # HÄmta en lista med storlekarna från den ursprungliga storlekstabellen\n",
    "    sizes = list(original_chart.keys())\n",
    "\n",
    "    # Loopa igenom varje strlk.\n",
    "    for i, size in enumerate(sizes):\n",
    "        # Skapa en inre dict. för varje strlk. i den nya tabellen\n",
    "        overlapping_chart[size] = {}\n",
    "        # Hantera specialfall för första och sista strlk.\n",
    "        if i == 0:\n",
    "            # extra 5 enheter som övre gräns\n",
    "            overlapping_chart[size]['Chest'] = [original_chart[size]['Chest'], original_chart[sizes[i+1]]['Chest']+5]\n",
    "            overlapping_chart[size]['Shoulder'] = [original_chart[size]['Shoulder'], original_chart[sizes[i+1]]['Shoulder']+5]\n",
    "        \n",
    "        elif i == len(sizes)-1:\n",
    "            # nedre-> minus 5 enheter...övre-> plus 1000 enheter\n",
    "            overlapping_chart[size]['Chest'] = [original_chart[size]['Chest']-5, original_chart[size]['Chest']+1000]\n",
    "            overlapping_chart[size]['Shoulder'] = [original_chart[size]['Shoulder']-5, original_chart[size]['Shoulder']+1000]\n",
    "        \n",
    "        else:\n",
    "            overlapping_chart[size]['Chest'] = [original_chart[size]['Chest']-5, original_chart[sizes[i+1]]['Chest']+5]\n",
    "            overlapping_chart[size]['Shoulder'] = [original_chart[size]['Shoulder']-5, original_chart[sizes[i+1]]['Shoulder']+5]\n",
    "\n",
    "    # Returnera den nya strlk.tabellen med överlappande mått\n",
    "    return overlapping_chart\n",
    "\n",
    "\n",
    "\n"
   ]
  },
  {
   "cell_type": "code",
   "execution_count": 38,
   "metadata": {},
   "outputs": [
    {
     "name": "stdout",
     "output_type": "stream",
     "text": [
      "'XS' : {'Chest': [695, 829], 'Shoulder': [283, 340]},\n",
      "'S' : {'Chest': [819, 894], 'Shoulder': [330, 358]},\n",
      "'M' : {'Chest': [884, 945], 'Shoulder': [348, 370]},\n",
      "'L' : {'Chest': [935, 1004], 'Shoulder': [360, 383]},\n",
      "'XL' : {'Chest': [994, 1062], 'Shoulder': [373, 394]},\n",
      "'2XL' : {'Chest': [1052, 1122], 'Shoulder': [384, 405]},\n",
      "'3XL' : {'Chest': [1112, 2117], 'Shoulder': [395, 1400]},\n",
      "\n",
      "'XS' : {'Chest': [774, 927], 'Shoulder': [337, 389]},\n",
      "'S' : {'Chest': [917, 1001], 'Shoulder': [379, 408]},\n",
      "'M' : {'Chest': [991, 1061], 'Shoulder': [398, 420]},\n",
      "'L' : {'Chest': [1051, 1122], 'Shoulder': [410, 433]},\n",
      "'XL' : {'Chest': [1112, 1177], 'Shoulder': [423, 446]},\n",
      "'2XL' : {'Chest': [1167, 1238], 'Shoulder': [436, 457]},\n",
      "'3XL' : {'Chest': [1228, 2233], 'Shoulder': [447, 1452]},\n"
     ]
    }
   ],
   "source": [
    "new_female_sizes = create_overlapping_size_chart(female_sizes)\n",
    "new_male_sizes = create_overlapping_size_chart(male_sizes)\n",
    "\n",
    "for k, v in new_female_sizes.items():\n",
    "    print(f\"'{k}' : {v},\")\n",
    "\n",
    "print()\n",
    "\n",
    "for k, v in new_male_sizes.items():\n",
    "    print(f\"'{k}' : {v},\")"
   ]
  },
  {
   "cell_type": "code",
   "execution_count": 39,
   "metadata": {},
   "outputs": [],
   "source": [
    "female_sizes = {\n",
    "'XS' : {'Chest': [695, 829], 'Shoulder': [283, 340]},\n",
    "'S' : {'Chest': [819, 894], 'Shoulder': [330, 358]},\n",
    "'M' : {'Chest': [884, 945], 'Shoulder': [348, 370]},\n",
    "'L' : {'Chest': [935, 1004], 'Shoulder': [360, 383]},\n",
    "'XL' : {'Chest': [994, 1062], 'Shoulder': [373, 394]},\n",
    "'2XL' : {'Chest': [1052, 1122], 'Shoulder': [384, 405]},\n",
    "'3XL' : {'Chest': [1112, 2117], 'Shoulder': [395, 1400]}\n",
    "}\n",
    "\n",
    "male_sizes = {\n",
    "'XS' : {'Chest': [774, 927], 'Shoulder': [337, 389]},\n",
    "'S' : {'Chest': [917, 1001], 'Shoulder': [379, 408]},\n",
    "'M' : {'Chest': [991, 1061], 'Shoulder': [398, 420]},\n",
    "'L' : {'Chest': [1051, 1122], 'Shoulder': [410, 433]},\n",
    "'XL' : {'Chest': [1112, 1177], 'Shoulder': [423, 446]},\n",
    "'2XL' : {'Chest': [1167, 1238], 'Shoulder': [436, 457]},\n",
    "'3XL' : {'Chest': [1228, 2233], 'Shoulder': [447, 1452]}\n",
    "}"
   ]
  },
  {
   "cell_type": "code",
   "execution_count": 40,
   "metadata": {},
   "outputs": [],
   "source": [
    "def get_size(data, size_chart):\n",
    "    matches = {size: 0 for size in size_chart.keys()}\n",
    "    ties = 0\n",
    "\n",
    "    # Hämta en lista med storlk. i ordning\n",
    "    size_ordered = list(size_chart.keys())\n",
    "\n",
    "\n",
    "    for _, row in data.iterrows():\n",
    "        possible_sizes = []\n",
    "\n",
    "        for size, measurments in size_chart.items():\n",
    "            # Kontrollera om personens mått ligger inom intervallet för den aktuella strlk\n",
    "            if (row['biacromialbreadth'] >= measurments['Shoulder'][0] and\n",
    "                row['biacromialbreadth'] <= measurments['Shoulder'][1] and\n",
    "                row['chestcircumference'] >= measurments['Chest'][0] and\n",
    "                row['chestcircumference'] <= measurments['Chest'][1]):\n",
    "                possible_sizes.append(size)\n",
    "        \n",
    "        if len(possible_sizes) == 1: \n",
    "            matches[possible_sizes[0]] += 1\n",
    "        elif len(possible_sizes) > 1:\n",
    "            #Check if sizes are adjacent\n",
    "            are_adjacent = all([abs(size_ordered.index(possible_sizes[i])- size_ordered.index(possible_sizes[i+1])) == 1\n",
    "                                for i in range(len(possible_sizes)-1)])\n",
    "            \n",
    "            if are_adjacent:\n",
    "                #Assign the larger size\n",
    "                larger_size = max(possible_sizes, key=lambda s: size_ordered.index(s))\n",
    "                matches[larger_size] += 1\n",
    "            else:\n",
    "                ties += 1\n",
    "\n",
    "    return matches, ties\n",
    "\n",
    "\n",
    "                \n"
   ]
  },
  {
   "cell_type": "code",
   "execution_count": 41,
   "metadata": {},
   "outputs": [
    {
     "name": "stdout",
     "output_type": "stream",
     "text": [
      "True\n",
      "False\n"
     ]
    }
   ],
   "source": [
    "result = all([True, True, True])\n",
    "print(result)\n",
    "\n",
    "x=10\n",
    "result = all([x<15, x==10, x>12])\n",
    "print(result)"
   ]
  },
  {
   "cell_type": "code",
   "execution_count": 42,
   "metadata": {},
   "outputs": [
    {
     "name": "stdout",
     "output_type": "stream",
     "text": [
      "Female matches: {'XS': 23, 'S': 185, 'M': 247, 'L': 276, 'XL': 118, '2XL': 35, '3XL': 13}\n",
      "Female ties: 0\n",
      "Male matches: {'XS': 63, 'S': 428, 'M': 578, 'L': 593, 'XL': 331, '2XL': 101, '3XL': 50}\n",
      "Male ties: 0\n"
     ]
    }
   ],
   "source": [
    "female_matches, female_ties = get_size(female, female_sizes)\n",
    "male_matches, male_ties = get_size(male, male_sizes)\n",
    "\n",
    "print('Female matches:', female_matches)\n",
    "print('Female ties:', female_ties)\n",
    "print('Male matches:', male_matches)\n",
    "print('Male ties:', male_ties)\n",
    "\n"
   ]
  },
  {
   "cell_type": "code",
   "execution_count": 43,
   "metadata": {},
   "outputs": [],
   "source": [
    "def determine_size(value, measurement, size_dict):\n",
    "    \"\"\"\n",
    "    Determine clothing sizes that match the given body measurement value.\n",
    "    \n",
    "    Iterates through the provided size dictionary and finds all sizes where the \n",
    "    measurement range contains the given value.\n",
    "    \n",
    "    Parameters:\n",
    "      value: The body measurement value\n",
    "      measurement: The name of the measurement type\n",
    "      size_dict: Dictionary mapping clothing sizes to measurement ranges\n",
    "    \n",
    "    Returns:\n",
    "      sizes: List of clothing sizes matching the measurement value\n",
    "    \"\"\"\n",
    "    sizes = []\n",
    "    for size, measurements in size_dict.items():\n",
    "        if measurements[measurement][0] <= value <= measurements[measurement][1]:\n",
    "            sizes.append(size)\n",
    "    return sizes\n",
    "\n",
    "def determine_individual_size(row, size_dict):\n",
    "    \"\"\"\n",
    "    Determine individual clothing size based on chest circumference and shoulder width.\n",
    "    Matches the chest and shoulder measurements to clothing sizes in the provided size dictionary. \n",
    "    Returns a single matching size, or the larger of two adjacent sizes if there are multiple matches.\n",
    "    Returns None if no size matches or adjacent sizes cannot be determined.\n",
    "    \"\"\"\n",
    "    chest_size = determine_size(row['chestcircumference'], 'Chest', size_dict)\n",
    "    shoulder_size = determine_size(row['biacromialbreadth'], 'Shoulder', size_dict)\n",
    "    \n",
    "    matching_sizes = list(set(chest_size) & set(shoulder_size))\n",
    "    \n",
    "    if len(matching_sizes) == 1:\n",
    "        return matching_sizes[0]\n",
    "    elif len(matching_sizes) > 1:\n",
    "        # Check if sizes are adjacent, if so, select the larger size\n",
    "        size_order = list(size_dict.keys())\n",
    "        adjacent = all([abs(size_order.index(a) - size_order.index(b)) <= 1 for a in matching_sizes for b in matching_sizes])\n",
    "        if adjacent:\n",
    "            return max(matching_sizes, key=lambda x: size_order.index(x))\n",
    "    return None"
   ]
  },
  {
   "cell_type": "code",
   "execution_count": 45,
   "metadata": {},
   "outputs": [],
   "source": [
    "# Skapa en ny kolumn kallad \"t-shirt size\" för både kvinnliga och manliga dataseten.\n",
    "female['t-shirt size'] = female.apply(determine_individual_size, args =(female_sizes,), axis=1)\n",
    "male['t-shirt size'] = male.apply(determine_individual_size, args =(male_sizes,), axis=1)\n"
   ]
  },
  {
   "cell_type": "code",
   "execution_count": null,
   "metadata": {},
   "outputs": [],
   "source": [
    "# Räknar och returnerar antalet förekomster av varje unikt värde\n",
    "female['t-shirt size'].value_counts()"
   ]
  },
  {
   "cell_type": "code",
   "execution_count": 47,
   "metadata": {},
   "outputs": [
    {
     "data": {
      "text/plain": [
       "t-shirt size\n",
       "L      593\n",
       "M      578\n",
       "S      428\n",
       "XL     331\n",
       "2XL    101\n",
       "XS      63\n",
       "3XL     50\n",
       "Name: count, dtype: int64"
      ]
     },
     "execution_count": 47,
     "metadata": {},
     "output_type": "execute_result"
    }
   ],
   "source": [
    "male['t-shirt size'].value_counts()"
   ]
  }
 ],
 "metadata": {
  "kernelspec": {
   "display_name": "venv",
   "language": "python",
   "name": "python3"
  },
  "language_info": {
   "codemirror_mode": {
    "name": "ipython",
    "version": 3
   },
   "file_extension": ".py",
   "mimetype": "text/x-python",
   "name": "python",
   "nbconvert_exporter": "python",
   "pygments_lexer": "ipython3",
   "version": "3.11.3"
  }
 },
 "nbformat": 4,
 "nbformat_minor": 2
}
