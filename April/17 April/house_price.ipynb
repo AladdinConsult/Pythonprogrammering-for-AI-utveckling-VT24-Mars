{
 "cells": [
  {
   "cell_type": "code",
   "execution_count": 92,
   "metadata": {},
   "outputs": [],
   "source": [
    "# Importera Pandas-bibliotek och använda \"pd\" som alias\n",
    "import pandas as pd"
   ]
  },
  {
   "cell_type": "code",
   "execution_count": 93,
   "metadata": {},
   "outputs": [],
   "source": [
    "#Läs in CSV-filen\n",
    "df = pd.read_csv('./data/house_price.csv')"
   ]
  },
  {
   "cell_type": "code",
   "execution_count": 94,
   "metadata": {},
   "outputs": [
    {
     "data": {
      "text/html": [
       "<div>\n",
       "<style scoped>\n",
       "    .dataframe tbody tr th:only-of-type {\n",
       "        vertical-align: middle;\n",
       "    }\n",
       "\n",
       "    .dataframe tbody tr th {\n",
       "        vertical-align: top;\n",
       "    }\n",
       "\n",
       "    .dataframe thead th {\n",
       "        text-align: right;\n",
       "    }\n",
       "</style>\n",
       "<table border=\"1\" class=\"dataframe\">\n",
       "  <thead>\n",
       "    <tr style=\"text-align: right;\">\n",
       "      <th></th>\n",
       "      <th>bedrooms</th>\n",
       "      <th>sq_meter</th>\n",
       "      <th>neighborhood</th>\n",
       "      <th>sales_price</th>\n",
       "    </tr>\n",
       "  </thead>\n",
       "  <tbody>\n",
       "    <tr>\n",
       "      <th>0</th>\n",
       "      <td>3</td>\n",
       "      <td>200</td>\n",
       "      <td>Normalville</td>\n",
       "      <td>250000</td>\n",
       "    </tr>\n",
       "    <tr>\n",
       "      <th>1</th>\n",
       "      <td>2</td>\n",
       "      <td>80</td>\n",
       "      <td>Cool Town</td>\n",
       "      <td>300000</td>\n",
       "    </tr>\n",
       "    <tr>\n",
       "      <th>2</th>\n",
       "      <td>2</td>\n",
       "      <td>85</td>\n",
       "      <td>Normalville</td>\n",
       "      <td>150000</td>\n",
       "    </tr>\n",
       "    <tr>\n",
       "      <th>3</th>\n",
       "      <td>1</td>\n",
       "      <td>55</td>\n",
       "      <td>Normalville</td>\n",
       "      <td>78000</td>\n",
       "    </tr>\n",
       "    <tr>\n",
       "      <th>4</th>\n",
       "      <td>4</td>\n",
       "      <td>200</td>\n",
       "      <td>Skid Row</td>\n",
       "      <td>150000</td>\n",
       "    </tr>\n",
       "  </tbody>\n",
       "</table>\n",
       "</div>"
      ],
      "text/plain": [
       "   bedrooms  sq_meter neighborhood  sales_price\n",
       "0         3       200  Normalville       250000\n",
       "1         2        80    Cool Town       300000\n",
       "2         2        85  Normalville       150000\n",
       "3         1        55  Normalville        78000\n",
       "4         4       200     Skid Row       150000"
      ]
     },
     "execution_count": 94,
     "metadata": {},
     "output_type": "execute_result"
    }
   ],
   "source": [
    "df.head()"
   ]
  },
  {
   "cell_type": "code",
   "execution_count": 95,
   "metadata": {},
   "outputs": [
    {
     "data": {
      "text/html": [
       "<div>\n",
       "<style scoped>\n",
       "    .dataframe tbody tr th:only-of-type {\n",
       "        vertical-align: middle;\n",
       "    }\n",
       "\n",
       "    .dataframe tbody tr th {\n",
       "        vertical-align: top;\n",
       "    }\n",
       "\n",
       "    .dataframe thead th {\n",
       "        text-align: right;\n",
       "    }\n",
       "</style>\n",
       "<table border=\"1\" class=\"dataframe\">\n",
       "  <thead>\n",
       "    <tr style=\"text-align: right;\">\n",
       "      <th></th>\n",
       "      <th>bedrooms</th>\n",
       "      <th>sq_meter</th>\n",
       "      <th>neighborhood</th>\n",
       "      <th>sales_price</th>\n",
       "    </tr>\n",
       "  </thead>\n",
       "  <tbody>\n",
       "    <tr>\n",
       "      <th>0</th>\n",
       "      <td>3</td>\n",
       "      <td>200</td>\n",
       "      <td>Normalville</td>\n",
       "      <td>250000</td>\n",
       "    </tr>\n",
       "    <tr>\n",
       "      <th>1</th>\n",
       "      <td>2</td>\n",
       "      <td>80</td>\n",
       "      <td>Cool Town</td>\n",
       "      <td>300000</td>\n",
       "    </tr>\n",
       "    <tr>\n",
       "      <th>2</th>\n",
       "      <td>2</td>\n",
       "      <td>85</td>\n",
       "      <td>Normalville</td>\n",
       "      <td>150000</td>\n",
       "    </tr>\n",
       "  </tbody>\n",
       "</table>\n",
       "</div>"
      ],
      "text/plain": [
       "   bedrooms  sq_meter neighborhood  sales_price\n",
       "0         3       200  Normalville       250000\n",
       "1         2        80    Cool Town       300000\n",
       "2         2        85  Normalville       150000"
      ]
     },
     "execution_count": 95,
     "metadata": {},
     "output_type": "execute_result"
    }
   ],
   "source": [
    "df.head(3)"
   ]
  },
  {
   "cell_type": "markdown",
   "metadata": {},
   "source": [
    "First attempt"
   ]
  },
  {
   "cell_type": "code",
   "execution_count": 96,
   "metadata": {},
   "outputs": [],
   "source": [
    "# Funktion för att uppskatta försäljningspriset\n",
    "def estimate_house_sales_price(num_of_bedrooms, sqm, neighborhood):\n",
    "    #Initialisera prisvariabeln\n",
    "    price = 0\n",
    "\n",
    "    # Sätta grundpris per kvadratmeter\n",
    "    price_per_sqm = 200\n",
    "    # Justera pris baserat på området\n",
    "    if neighborhood == 'Cool Town':\n",
    "        price_per_sqm = 400\n",
    "    elif neighborhood == 'Skid Row':\n",
    "        price_per_sqm = 100\n",
    "    \n",
    "    # Beräkna totalt pris\n",
    "    price = price_per_sqm * sqm\n",
    "\n",
    "    # Modifiera priset baserat på antal sovrum\n",
    "    if num_of_bedrooms == 0:\n",
    "        price -= 20000 \n",
    "    else:\n",
    "        price += num_of_bedrooms * 100000\n",
    "    \n",
    "    # Returnera det slutgitliga priset\n",
    "    return price"
   ]
  },
  {
   "cell_type": "code",
   "execution_count": 97,
   "metadata": {},
   "outputs": [
    {
     "data": {
      "text/plain": [
       "417500"
      ]
     },
     "execution_count": 97,
     "metadata": {},
     "output_type": "execute_result"
    }
   ],
   "source": [
    "# Anropa funktion för att uppskatta försäljningspriset\n",
    "estimate_house_sales_price(4, 175, 'Skid Row')"
   ]
  },
  {
   "cell_type": "markdown",
   "metadata": {},
   "source": [
    "Make it more flexible"
   ]
  },
  {
   "cell_type": "code",
   "execution_count": 98,
   "metadata": {},
   "outputs": [],
   "source": [
    "# Funktion för att uppskatta försäljningspriset\n",
    "def estimate_house_sales_price(num_of_bedrooms, sqm, neighborhood):\n",
    "    price = 0\n",
    "\n",
    "    price += num_of_bedrooms * 0.841232951398213\n",
    "    price += sqm *1231.1231231\n",
    "    price += neighborhood * 2.3242341421\n",
    "    price += 201.23432095\n",
    "    return price"
   ]
  },
  {
   "cell_type": "code",
   "execution_count": 99,
   "metadata": {},
   "outputs": [],
   "source": [
    "# for _, house in df.iterrows():\n",
    "#     print(estimate_house_sales_price(house.bedrooms, house.sq_meter, house.neighborhood), house.sales_price)"
   ]
  },
  {
   "cell_type": "code",
   "execution_count": 100,
   "metadata": {},
   "outputs": [],
   "source": [
    "# Skapa en dictionary för att mappa områden till numeriska värden\n",
    "neighborhood_mapping = {\n",
    "    'Skid Row' : 1,\n",
    "    'Normalville' : 2,\n",
    "    'Cool Town' : 3\n",
    "}"
   ]
  },
  {
   "cell_type": "code",
   "execution_count": 101,
   "metadata": {},
   "outputs": [
    {
     "name": "stdout",
     "output_type": "stream",
     "text": [
      "246433 250000\n",
      "98699 300000\n",
      "104853 150000\n",
      "67918 78000\n",
      "246431 150000\n"
     ]
    }
   ],
   "source": [
    "# Iterera över varje rad I \"df\"\n",
    "\n",
    "for _, house in df.iterrows():\n",
    "    print(int(estimate_house_sales_price(house.bedrooms, house.sq_meter, neighborhood_mapping[house.neighborhood])), house.sales_price)"
   ]
  },
  {
   "cell_type": "markdown",
   "metadata": {},
   "source": [
    "Calculate absolute error"
   ]
  },
  {
   "cell_type": "code",
   "execution_count": 102,
   "metadata": {},
   "outputs": [
    {
     "data": {
      "text/plain": [
       "[(246433, 250000),\n",
       " (98699, 300000),\n",
       " (104853, 150000),\n",
       " (67918, 78000),\n",
       " (246431, 150000)]"
      ]
     },
     "execution_count": 102,
     "metadata": {},
     "output_type": "execute_result"
    }
   ],
   "source": [
    "# Skapa en tom lista för att lagra tuplar av beräknade priser och verkliga försäljningspriser för varje hus\n",
    "predictions = []\n",
    "\n",
    "# Iterera över varje rad #df\n",
    "for _, house in df.iterrows():\n",
    "# Anropa estimate_house_sales_price-funktionen med aktuella parametrar och konvertera resultatet till heltal\n",
    "# Lägg sedan till en tupel av det beräknade priset och det verkliga försäljningspriset i listan\n",
    "    predictions.append((int(estimate_house_sales_price(house.bedrooms, house.sq_meter, neighborhood_mapping[house.neighborhood])), house.sales_price))\n",
    "\n",
    "# Visa den resulterande listan med tuplar\n",
    "predictions"
   ]
  },
  {
   "cell_type": "code",
   "execution_count": 103,
   "metadata": {},
   "outputs": [
    {
     "data": {
      "text/plain": [
       "[3567, 201301, 45147, 10082, 96431]"
      ]
     },
     "execution_count": 103,
     "metadata": {},
     "output_type": "execute_result"
    }
   ],
   "source": [
    "# Skapa en tom lista för att lagra absoluta fel mellan de beräknade priserna och de verkliga försäljningspriserna \n",
    "absolute_errors = []\n",
    "\n",
    "# Iterera över varje tupel i listan med förutsägelser\n",
    "for prediction, price in predictions:\n",
    "    # Beräkna det absoluta felet och lägg till det i listan\n",
    "    absolute_errors.append(abs(prediction - price))\n",
    "absolute_errors"
   ]
  },
  {
   "cell_type": "code",
   "execution_count": 104,
   "metadata": {},
   "outputs": [
    {
     "data": {
      "text/plain": [
       "[(1, 'a'), (2, 'b'), (3, 'c')]"
      ]
     },
     "execution_count": 104,
     "metadata": {},
     "output_type": "execute_result"
    }
   ],
   "source": [
    "list_a = [1,2,3]\n",
    "list_b = ['a','b','c']\n",
    "\n",
    "list(zip(list_a, list_b))"
   ]
  },
  {
   "cell_type": "code",
   "execution_count": 105,
   "metadata": {},
   "outputs": [],
   "source": [
    "# Funktionen för att beräkna medelvärdet av absoluta felen mellan faktiska och förutsagda värden\n",
    "def mean_absolute_error(y_true, y_pread):\n",
    "    # Kontrollera att längden på faktiska och förutsagda värden är samma\n",
    "    assert len(y_true) == len(y_pread), 'length of actual and predicted values must be the same'\n",
    "\n",
    "    # Beräkna absoluta fel för varje par av faktiska och förutsagda värden\n",
    "    absolute_errors = [abs(true_value - pred_value) for true_value, pred_value in zip(y_true, y_pread)]\n",
    "\n",
    "    # Beräkna och returnera medelvärdet av absoluta felen\n",
    "    return sum(absolute_errors) / len(y_true)"
   ]
  },
  {
   "cell_type": "code",
   "execution_count": 106,
   "metadata": {},
   "outputs": [
    {
     "data": {
      "text/plain": [
       "[250000, 300000, 150000, 78000, 150000]"
      ]
     },
     "execution_count": 106,
     "metadata": {},
     "output_type": "execute_result"
    }
   ],
   "source": [
    "# Skapa en lista med de verkliga försäljningspriserna från \"df\"\n",
    "\n",
    "real_values = df.sales_price.values.tolist()\n",
    "real_values"
   ]
  },
  {
   "cell_type": "code",
   "execution_count": 107,
   "metadata": {},
   "outputs": [
    {
     "data": {
      "text/plain": [
       "[246433, 98699, 104853, 67918, 246431]"
      ]
     },
     "execution_count": 107,
     "metadata": {},
     "output_type": "execute_result"
    }
   ],
   "source": [
    "# predictions = []\n",
    "# for _, house in df.iterrows():\n",
    "#     predictions.append((int(estimate_house_sales_price(house.bedrooms, house.sq_meter, neighborhood_mapping[house.neighborhood])), house.sales_price))\n",
    "# predictions\n",
    "\n",
    "# Skapa en lista med förutsagda försäljningspriser\n",
    "predicted_values = [int(estimate_house_sales_price(house.bedrooms, house.sq_meter, neighborhood_mapping[house.neighborhood])) for _, house in df.iterrows()]\n",
    "predicted_values"
   ]
  },
  {
   "cell_type": "code",
   "execution_count": 108,
   "metadata": {},
   "outputs": [
    {
     "data": {
      "text/plain": [
       "71305.6"
      ]
     },
     "execution_count": 108,
     "metadata": {},
     "output_type": "execute_result"
    }
   ],
   "source": [
    "# Beräkna medelvärdet av absoluta felen mellan de verkliga och förutsagda försäljningspriserna\n",
    "mean_absolute_error(real_values, predicted_values)"
   ]
  },
  {
   "cell_type": "markdown",
   "metadata": {},
   "source": [
    "Create a weight dict to start with"
   ]
  },
  {
   "cell_type": "code",
   "execution_count": 125,
   "metadata": {},
   "outputs": [],
   "source": [
    "# Skapa en dictionary med vikter för  antal sovrum osv även en konstantbias\n",
    "weights_data = {\n",
    "    'bedroom_weight' : 0.8,\n",
    "    'sqm_weight' : 1.2,\n",
    "    'neighborhood_weight' : 0.5,\n",
    "    'bias' : 200\n",
    "}"
   ]
  },
  {
   "cell_type": "code",
   "execution_count": 110,
   "metadata": {},
   "outputs": [],
   "source": [
    "# Funktion för att uppskatta försäljningspriset på ett hus baserat på antal sovrum osv..och vikter för varje attribut, samt en bias\n",
    "\n",
    "def estimate_house_sales_price(num_of_bedrooms, sqm, neighborhood, weights):\n",
    "    price = 0\n",
    "\n",
    "    price += num_of_bedrooms * weights['bedroom_weight']\n",
    "    price += sqm * weights['sqm_weight']\n",
    "    price += neighborhood * weights['neighborhood_weight']\n",
    "    price += weights['bias']\n",
    "    return price\n"
   ]
  },
  {
   "cell_type": "code",
   "execution_count": 111,
   "metadata": {},
   "outputs": [],
   "source": [
    "# Funktion för att göra förutsägelser baserat på vikter, bias och inputdata\n",
    "\n",
    "def predict(X, weights, bias):\n",
    "    return [sum(w*Xj for w, Xj in zip(weights, Xi)) + bias for Xi in X]\n",
    "\n",
    "# Funktion för gradient_descent-optimering för att anpassa vikter och bias till inputdata och målvariabler\n",
    "def gradient_descent(X, y, weights, bias, learning_rate, num_iterations):\n",
    "    # pass\n",
    "    num_samples, num_features = len(X), len(X[0])\n",
    "\n",
    "    for _ in range(num_iterations):\n",
    "        # gör förutsägelser baserat på aktuella vikter och bias\n",
    "        predictions = predict(X, weights, bias)\n",
    "        # print(predictions)\n",
    "\n",
    "        # Beräkna fel mellan förutsägelser och faktiska värden\n",
    "        errors = [pred - actual for pred, actual in zip(predictions, y)]\n",
    "\n",
    "        # Beräkna gradient för vikter och bias\n",
    "        gradient_weights = [sum(err*Xi[i] for err, Xi in zip(errors, X)) / num_samples for i in range(num_features)]\n",
    "        gradient_bias = sum(errors) / num_samples\n",
    "\n",
    "        # Uppdatera vikter och bias baserat på gradient och inlärningshastighet\n",
    "        weights = [w - learning_rate * gw for w, gw in zip(weights, gradient_weights)]\n",
    "        bias = bias - learning_rate * gradient_bias\n",
    "    return weights, bias"
   ]
  },
  {
   "cell_type": "markdown",
   "metadata": {},
   "source": [
    "One Hot Encoding"
   ]
  },
  {
   "cell_type": "code",
   "execution_count": 112,
   "metadata": {},
   "outputs": [
    {
     "data": {
      "text/html": [
       "<div>\n",
       "<style scoped>\n",
       "    .dataframe tbody tr th:only-of-type {\n",
       "        vertical-align: middle;\n",
       "    }\n",
       "\n",
       "    .dataframe tbody tr th {\n",
       "        vertical-align: top;\n",
       "    }\n",
       "\n",
       "    .dataframe thead th {\n",
       "        text-align: right;\n",
       "    }\n",
       "</style>\n",
       "<table border=\"1\" class=\"dataframe\">\n",
       "  <thead>\n",
       "    <tr style=\"text-align: right;\">\n",
       "      <th></th>\n",
       "      <th>bedrooms</th>\n",
       "      <th>sq_meter</th>\n",
       "      <th>sales_price</th>\n",
       "      <th>neighborhood_Cool Town</th>\n",
       "      <th>neighborhood_Normalville</th>\n",
       "      <th>neighborhood_Skid Row</th>\n",
       "    </tr>\n",
       "  </thead>\n",
       "  <tbody>\n",
       "    <tr>\n",
       "      <th>0</th>\n",
       "      <td>3</td>\n",
       "      <td>200</td>\n",
       "      <td>250000</td>\n",
       "      <td>False</td>\n",
       "      <td>True</td>\n",
       "      <td>False</td>\n",
       "    </tr>\n",
       "    <tr>\n",
       "      <th>1</th>\n",
       "      <td>2</td>\n",
       "      <td>80</td>\n",
       "      <td>300000</td>\n",
       "      <td>True</td>\n",
       "      <td>False</td>\n",
       "      <td>False</td>\n",
       "    </tr>\n",
       "    <tr>\n",
       "      <th>2</th>\n",
       "      <td>2</td>\n",
       "      <td>85</td>\n",
       "      <td>150000</td>\n",
       "      <td>False</td>\n",
       "      <td>True</td>\n",
       "      <td>False</td>\n",
       "    </tr>\n",
       "    <tr>\n",
       "      <th>3</th>\n",
       "      <td>1</td>\n",
       "      <td>55</td>\n",
       "      <td>78000</td>\n",
       "      <td>False</td>\n",
       "      <td>True</td>\n",
       "      <td>False</td>\n",
       "    </tr>\n",
       "    <tr>\n",
       "      <th>4</th>\n",
       "      <td>4</td>\n",
       "      <td>200</td>\n",
       "      <td>150000</td>\n",
       "      <td>False</td>\n",
       "      <td>False</td>\n",
       "      <td>True</td>\n",
       "    </tr>\n",
       "  </tbody>\n",
       "</table>\n",
       "</div>"
      ],
      "text/plain": [
       "   bedrooms  sq_meter  sales_price  neighborhood_Cool Town  \\\n",
       "0         3       200       250000                   False   \n",
       "1         2        80       300000                    True   \n",
       "2         2        85       150000                   False   \n",
       "3         1        55        78000                   False   \n",
       "4         4       200       150000                   False   \n",
       "\n",
       "   neighborhood_Normalville  neighborhood_Skid Row  \n",
       "0                      True                  False  \n",
       "1                     False                  False  \n",
       "2                      True                  False  \n",
       "3                      True                  False  \n",
       "4                     False                   True  "
      ]
     },
     "execution_count": 112,
     "metadata": {},
     "output_type": "execute_result"
    }
   ],
   "source": [
    "# Skapa en ny DataFrame \"df_encoded\"\n",
    "df_encoded = pd.get_dummies(df, columns = ['neighborhood'])\n",
    "df_encoded"
   ]
  },
  {
   "cell_type": "code",
   "execution_count": 113,
   "metadata": {},
   "outputs": [
    {
     "name": "stdout",
     "output_type": "stream",
     "text": [
      "<class 'pandas.core.frame.DataFrame'>\n",
      "RangeIndex: 5 entries, 0 to 4\n",
      "Data columns (total 6 columns):\n",
      " #   Column                    Non-Null Count  Dtype\n",
      "---  ------                    --------------  -----\n",
      " 0   bedrooms                  5 non-null      int64\n",
      " 1   sq_meter                  5 non-null      int64\n",
      " 2   sales_price               5 non-null      int64\n",
      " 3   neighborhood_Cool Town    5 non-null      bool \n",
      " 4   neighborhood_Normalville  5 non-null      bool \n",
      " 5   neighborhood_Skid Row     5 non-null      bool \n",
      "dtypes: bool(3), int64(3)\n",
      "memory usage: 267.0 bytes\n"
     ]
    }
   ],
   "source": [
    "# Visa information om \"df_encoded\"\n",
    "\n",
    "df_encoded.info()"
   ]
  },
  {
   "cell_type": "code",
   "execution_count": 114,
   "metadata": {},
   "outputs": [
    {
     "data": {
      "text/plain": [
       "array([[3, 200, False, True, False],\n",
       "       [2, 80, True, False, False],\n",
       "       [2, 85, False, True, False],\n",
       "       [1, 55, False, True, False],\n",
       "       [4, 200, False, False, True]], dtype=object)"
      ]
     },
     "execution_count": 114,
     "metadata": {},
     "output_type": "execute_result"
    }
   ],
   "source": [
    "# Skapa en array \"X\" som innehåller funktioner genom att ta bort kolumnen \"sales_price\" från vårt \"df_encoded\"\n",
    "\n",
    "X = df_encoded.drop(columns=['sales_price']).values  # Features \n",
    "X"
   ]
  },
  {
   "cell_type": "code",
   "execution_count": 115,
   "metadata": {},
   "outputs": [
    {
     "data": {
      "text/plain": [
       "array([250000, 300000, 150000,  78000, 150000], dtype=int64)"
      ]
     },
     "execution_count": 115,
     "metadata": {},
     "output_type": "execute_result"
    }
   ],
   "source": [
    "# Skapa en array \"y\" som innehåller målvariabler genom att välja kolumnen \"sales_price\" från vårt \"df_encoded\"\n",
    "\n",
    "y = df_encoded['sales_price'].values  # Target\n",
    "y"
   ]
  },
  {
   "cell_type": "code",
   "execution_count": 116,
   "metadata": {},
   "outputs": [
    {
     "data": {
      "text/plain": [
       "[0.8, 1.2, 0.5, 0.5, 0.5]"
      ]
     },
     "execution_count": 116,
     "metadata": {},
     "output_type": "execute_result"
    }
   ],
   "source": [
    "# Skapa en lista med vikter baserat på uppgivna vikter i weights_data-dict..\n",
    "weights =[\n",
    "    weights_data['bedroom_weight'],\n",
    "    weights_data['sqm_weight']] + \\\n",
    "    [weights_data['neighborhood_weight']] * 3\n",
    "\n",
    "weights"
   ]
  },
  {
   "cell_type": "code",
   "execution_count": 117,
   "metadata": {},
   "outputs": [
    {
     "data": {
      "text/plain": [
       "[1, 2, 3, 4, 4, 4]"
      ]
     },
     "execution_count": 117,
     "metadata": {},
     "output_type": "execute_result"
    }
   ],
   "source": [
    "# [1,2,3] + [4] * 3\n",
    "\n",
    "[1,2,3] + \\\n",
    "[4] * 3\n"
   ]
  },
  {
   "cell_type": "code",
   "execution_count": 118,
   "metadata": {},
   "outputs": [
    {
     "data": {
      "text/plain": [
       "200"
      ]
     },
     "execution_count": 118,
     "metadata": {},
     "output_type": "execute_result"
    }
   ],
   "source": [
    "# Tilldela värdet av bias från  weights_data-dict till variabeln \"bias\"\n",
    "\n",
    "bias = weights_data['bias']\n",
    "bias"
   ]
  },
  {
   "cell_type": "code",
   "execution_count": 119,
   "metadata": {},
   "outputs": [],
   "source": [
    "# Tilldela värden för inlärnings¨hastighet och antal iterationer\n",
    "\n",
    "learning_rate = 1e-9\n",
    "num_iterations = 100"
   ]
  },
  {
   "cell_type": "code",
   "execution_count": 126,
   "metadata": {},
   "outputs": [],
   "source": [
    "# gradient_descent(X, y, weights, bias, learning_rate, num_iterations)\n",
    "\n",
    "weights, bias = gradient_descent(X, y, weights, bias, learning_rate, num_iterations)"
   ]
  },
  {
   "cell_type": "code",
   "execution_count": 127,
   "metadata": {},
   "outputs": [
    {
     "data": {
      "text/plain": [
       "[0.8464258061476861,\n",
       " 3.613654212776658,\n",
       " 0.5059921242312305,\n",
       " 0.509531582292978,\n",
       " 0.5029863429868261]"
      ]
     },
     "execution_count": 127,
     "metadata": {},
     "output_type": "execute_result"
    }
   ],
   "source": [
    "weights"
   ]
  },
  {
   "cell_type": "code",
   "execution_count": 124,
   "metadata": {},
   "outputs": [
    {
     "data": {
      "text/plain": [
       "200.01851005136055"
      ]
     },
     "execution_count": 124,
     "metadata": {},
     "output_type": "execute_result"
    }
   ],
   "source": [
    "bias"
   ]
  }
 ],
 "metadata": {
  "kernelspec": {
   "display_name": "venv",
   "language": "python",
   "name": "python3"
  },
  "language_info": {
   "codemirror_mode": {
    "name": "ipython",
    "version": 3
   },
   "file_extension": ".py",
   "mimetype": "text/x-python",
   "name": "python",
   "nbconvert_exporter": "python",
   "pygments_lexer": "ipython3",
   "version": "3.11.3"
  }
 },
 "nbformat": 4,
 "nbformat_minor": 2
}
