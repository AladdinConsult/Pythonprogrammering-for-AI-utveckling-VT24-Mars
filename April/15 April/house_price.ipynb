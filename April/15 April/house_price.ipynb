{
 "cells": [
  {
   "cell_type": "code",
   "execution_count": 60,
   "metadata": {},
   "outputs": [],
   "source": [
    "import pandas as pd"
   ]
  },
  {
   "cell_type": "code",
   "execution_count": 61,
   "metadata": {},
   "outputs": [],
   "source": [
    "df = pd.read_csv('./data/house_price.csv')"
   ]
  },
  {
   "cell_type": "code",
   "execution_count": 62,
   "metadata": {},
   "outputs": [
    {
     "data": {
      "text/html": [
       "<div>\n",
       "<style scoped>\n",
       "    .dataframe tbody tr th:only-of-type {\n",
       "        vertical-align: middle;\n",
       "    }\n",
       "\n",
       "    .dataframe tbody tr th {\n",
       "        vertical-align: top;\n",
       "    }\n",
       "\n",
       "    .dataframe thead th {\n",
       "        text-align: right;\n",
       "    }\n",
       "</style>\n",
       "<table border=\"1\" class=\"dataframe\">\n",
       "  <thead>\n",
       "    <tr style=\"text-align: right;\">\n",
       "      <th></th>\n",
       "      <th>bedrooms</th>\n",
       "      <th>sq_meter</th>\n",
       "      <th>neighborhood</th>\n",
       "      <th>sales_price</th>\n",
       "    </tr>\n",
       "  </thead>\n",
       "  <tbody>\n",
       "    <tr>\n",
       "      <th>0</th>\n",
       "      <td>3</td>\n",
       "      <td>200</td>\n",
       "      <td>Normalville</td>\n",
       "      <td>250000</td>\n",
       "    </tr>\n",
       "    <tr>\n",
       "      <th>1</th>\n",
       "      <td>2</td>\n",
       "      <td>80</td>\n",
       "      <td>Cool Town</td>\n",
       "      <td>300000</td>\n",
       "    </tr>\n",
       "    <tr>\n",
       "      <th>2</th>\n",
       "      <td>2</td>\n",
       "      <td>85</td>\n",
       "      <td>Normalville</td>\n",
       "      <td>150000</td>\n",
       "    </tr>\n",
       "    <tr>\n",
       "      <th>3</th>\n",
       "      <td>1</td>\n",
       "      <td>55</td>\n",
       "      <td>Normalville</td>\n",
       "      <td>78000</td>\n",
       "    </tr>\n",
       "    <tr>\n",
       "      <th>4</th>\n",
       "      <td>4</td>\n",
       "      <td>200</td>\n",
       "      <td>Skid Row</td>\n",
       "      <td>150000</td>\n",
       "    </tr>\n",
       "  </tbody>\n",
       "</table>\n",
       "</div>"
      ],
      "text/plain": [
       "   bedrooms  sq_meter neighborhood  sales_price\n",
       "0         3       200  Normalville       250000\n",
       "1         2        80    Cool Town       300000\n",
       "2         2        85  Normalville       150000\n",
       "3         1        55  Normalville        78000\n",
       "4         4       200     Skid Row       150000"
      ]
     },
     "execution_count": 62,
     "metadata": {},
     "output_type": "execute_result"
    }
   ],
   "source": [
    "df.head()"
   ]
  },
  {
   "cell_type": "code",
   "execution_count": 63,
   "metadata": {},
   "outputs": [
    {
     "data": {
      "text/html": [
       "<div>\n",
       "<style scoped>\n",
       "    .dataframe tbody tr th:only-of-type {\n",
       "        vertical-align: middle;\n",
       "    }\n",
       "\n",
       "    .dataframe tbody tr th {\n",
       "        vertical-align: top;\n",
       "    }\n",
       "\n",
       "    .dataframe thead th {\n",
       "        text-align: right;\n",
       "    }\n",
       "</style>\n",
       "<table border=\"1\" class=\"dataframe\">\n",
       "  <thead>\n",
       "    <tr style=\"text-align: right;\">\n",
       "      <th></th>\n",
       "      <th>bedrooms</th>\n",
       "      <th>sq_meter</th>\n",
       "      <th>neighborhood</th>\n",
       "      <th>sales_price</th>\n",
       "    </tr>\n",
       "  </thead>\n",
       "  <tbody>\n",
       "    <tr>\n",
       "      <th>0</th>\n",
       "      <td>3</td>\n",
       "      <td>200</td>\n",
       "      <td>Normalville</td>\n",
       "      <td>250000</td>\n",
       "    </tr>\n",
       "    <tr>\n",
       "      <th>1</th>\n",
       "      <td>2</td>\n",
       "      <td>80</td>\n",
       "      <td>Cool Town</td>\n",
       "      <td>300000</td>\n",
       "    </tr>\n",
       "    <tr>\n",
       "      <th>2</th>\n",
       "      <td>2</td>\n",
       "      <td>85</td>\n",
       "      <td>Normalville</td>\n",
       "      <td>150000</td>\n",
       "    </tr>\n",
       "  </tbody>\n",
       "</table>\n",
       "</div>"
      ],
      "text/plain": [
       "   bedrooms  sq_meter neighborhood  sales_price\n",
       "0         3       200  Normalville       250000\n",
       "1         2        80    Cool Town       300000\n",
       "2         2        85  Normalville       150000"
      ]
     },
     "execution_count": 63,
     "metadata": {},
     "output_type": "execute_result"
    }
   ],
   "source": [
    "df.head(3)"
   ]
  },
  {
   "cell_type": "markdown",
   "metadata": {},
   "source": [
    "First attempt"
   ]
  },
  {
   "cell_type": "code",
   "execution_count": 64,
   "metadata": {},
   "outputs": [],
   "source": [
    "def estimate_house_sales_price(num_of_bedrooms, sqm, neighborhood):\n",
    "    price = 0\n",
    "\n",
    "    price_per_sqm = 200\n",
    "    if neighborhood == 'Cool Town':\n",
    "        price_per_sqm = 400\n",
    "    elif neighborhood == 'Skid Row':\n",
    "        price_per_sqm = 100\n",
    "    \n",
    "    price = price_per_sqm * sqm\n",
    "\n",
    "    if num_of_bedrooms == 0:\n",
    "        price -= 20000 \n",
    "    else:\n",
    "        price += num_of_bedrooms * 100000\n",
    "    return price"
   ]
  },
  {
   "cell_type": "code",
   "execution_count": 65,
   "metadata": {},
   "outputs": [
    {
     "data": {
      "text/plain": [
       "417500"
      ]
     },
     "execution_count": 65,
     "metadata": {},
     "output_type": "execute_result"
    }
   ],
   "source": [
    "estimate_house_sales_price(4, 175, 'Skid Row')"
   ]
  },
  {
   "cell_type": "markdown",
   "metadata": {},
   "source": [
    "Make it more flexible"
   ]
  },
  {
   "cell_type": "code",
   "execution_count": 66,
   "metadata": {},
   "outputs": [],
   "source": [
    "def estimate_house_sales_price(num_of_bedrooms, sqm, neighborhood):\n",
    "    price = 0\n",
    "\n",
    "    price += num_of_bedrooms * 0.841232951398213\n",
    "    price += sqm *1231.1231231\n",
    "    price += neighborhood * 2.3242341421\n",
    "    price += 201.23432095\n",
    "    return price"
   ]
  },
  {
   "cell_type": "code",
   "execution_count": 67,
   "metadata": {},
   "outputs": [],
   "source": [
    "# for _, house in df.iterrows():\n",
    "#     print(estimate_house_sales_price(house.bedrooms, house.sq_meter, house.neighborhood), house.sales_price)"
   ]
  },
  {
   "cell_type": "code",
   "execution_count": 68,
   "metadata": {},
   "outputs": [],
   "source": [
    "neighborhood_mapping = {\n",
    "    'Skid Row' : 1,\n",
    "    'Normalville' : 2,\n",
    "    'Cool Town' : 3\n",
    "}"
   ]
  },
  {
   "cell_type": "code",
   "execution_count": 69,
   "metadata": {},
   "outputs": [
    {
     "name": "stdout",
     "output_type": "stream",
     "text": [
      "246433 250000\n",
      "98699 300000\n",
      "104853 150000\n",
      "67918 78000\n",
      "246431 150000\n"
     ]
    }
   ],
   "source": [
    "for _, house in df.iterrows():\n",
    "    print(int(estimate_house_sales_price(house.bedrooms, house.sq_meter, neighborhood_mapping[house.neighborhood])), house.sales_price)"
   ]
  },
  {
   "cell_type": "markdown",
   "metadata": {},
   "source": [
    "Calculate absolute error"
   ]
  },
  {
   "cell_type": "code",
   "execution_count": 70,
   "metadata": {},
   "outputs": [
    {
     "data": {
      "text/plain": [
       "[(246433, 250000),\n",
       " (98699, 300000),\n",
       " (104853, 150000),\n",
       " (67918, 78000),\n",
       " (246431, 150000)]"
      ]
     },
     "execution_count": 70,
     "metadata": {},
     "output_type": "execute_result"
    }
   ],
   "source": [
    "predictions = []\n",
    "for _, house in df.iterrows():\n",
    "    predictions.append((int(estimate_house_sales_price(house.bedrooms, house.sq_meter, neighborhood_mapping[house.neighborhood])), house.sales_price))\n",
    "predictions"
   ]
  },
  {
   "cell_type": "code",
   "execution_count": 71,
   "metadata": {},
   "outputs": [
    {
     "data": {
      "text/plain": [
       "[3567, 201301, 45147, 10082, 96431]"
      ]
     },
     "execution_count": 71,
     "metadata": {},
     "output_type": "execute_result"
    }
   ],
   "source": [
    "absolute_errors = []\n",
    "for prediction, price in predictions:\n",
    "    absolute_errors.append(abs(prediction - price))\n",
    "absolute_errors"
   ]
  },
  {
   "cell_type": "code",
   "execution_count": 72,
   "metadata": {},
   "outputs": [
    {
     "data": {
      "text/plain": [
       "[(1, 'a'), (2, 'b'), (3, 'c')]"
      ]
     },
     "execution_count": 72,
     "metadata": {},
     "output_type": "execute_result"
    }
   ],
   "source": [
    "list_a = [1,2,3]\n",
    "list_b = ['a','b','c']\n",
    "\n",
    "list(zip(list_a, list_b))"
   ]
  },
  {
   "cell_type": "code",
   "execution_count": 73,
   "metadata": {},
   "outputs": [],
   "source": [
    "def mean_absolute_error(y_true, y_pread):\n",
    "    assert len(y_true) == len(y_pread), 'length of actual and predicted values must be the same'\n",
    "\n",
    "    absolute_errors = [abs(true_value - pred_value) for true_value, pred_value in zip(y_true, y_pread)]\n",
    "\n",
    "    return sum(absolute_errors) / len(y_true)"
   ]
  },
  {
   "cell_type": "code",
   "execution_count": 74,
   "metadata": {},
   "outputs": [
    {
     "data": {
      "text/plain": [
       "[250000, 300000, 150000, 78000, 150000]"
      ]
     },
     "execution_count": 74,
     "metadata": {},
     "output_type": "execute_result"
    }
   ],
   "source": [
    "real_values = df.sales_price.values.tolist()\n",
    "real_values"
   ]
  },
  {
   "cell_type": "code",
   "execution_count": 75,
   "metadata": {},
   "outputs": [
    {
     "data": {
      "text/plain": [
       "[246433, 98699, 104853, 67918, 246431]"
      ]
     },
     "execution_count": 75,
     "metadata": {},
     "output_type": "execute_result"
    }
   ],
   "source": [
    "# predictions = []\n",
    "# for _, house in df.iterrows():\n",
    "#     predictions.append((int(estimate_house_sales_price(house.bedrooms, house.sq_meter, neighborhood_mapping[house.neighborhood])), house.sales_price))\n",
    "# predictions\n",
    "\n",
    "predicted_values = [int(estimate_house_sales_price(house.bedrooms, house.sq_meter, neighborhood_mapping[house.neighborhood])) for _, house in df.iterrows()]\n",
    "predicted_values"
   ]
  },
  {
   "cell_type": "code",
   "execution_count": 76,
   "metadata": {},
   "outputs": [
    {
     "data": {
      "text/plain": [
       "71305.6"
      ]
     },
     "execution_count": 76,
     "metadata": {},
     "output_type": "execute_result"
    }
   ],
   "source": [
    "mean_absolute_error(real_values, predicted_values)"
   ]
  },
  {
   "cell_type": "markdown",
   "metadata": {},
   "source": [
    "Create a weight dict to start with"
   ]
  },
  {
   "cell_type": "code",
   "execution_count": 77,
   "metadata": {},
   "outputs": [],
   "source": [
    "weights_data = {\n",
    "    'bedroom_weight' : 0.8,\n",
    "    'sqm_weight' : 1.2,\n",
    "    'neighborhood_weight' : 0.5,\n",
    "    'bias' : 200\n",
    "}"
   ]
  },
  {
   "cell_type": "code",
   "execution_count": 78,
   "metadata": {},
   "outputs": [],
   "source": [
    "def estimate_house_sales_price(num_of_bedrooms, sqm, neighborhood, weights):\n",
    "    price = 0\n",
    "\n",
    "    price += num_of_bedrooms * weights['bedroom_weight']\n",
    "    price += sqm * weights['sqm_weight']\n",
    "    price += neighborhood * weights['neighborhood_weight']\n",
    "    price += weights['bias']\n",
    "    return price\n"
   ]
  },
  {
   "cell_type": "code",
   "execution_count": 79,
   "metadata": {},
   "outputs": [],
   "source": [
    "def predict(X, weights, bias):\n",
    "    return [sum(w*Xj for w, Xj in zip(weights, Xi)) + bias for Xi in X]\n",
    "\n",
    "def gradient_descent(X, y, weights, bias, learning_rate, num_iterations):\n",
    "    # pass\n",
    "    num_samples, num_features = len(X), len(X[0])\n",
    "\n",
    "    for _ in range(num_iterations):\n",
    "        predictions = predict(X, weights, bias)\n",
    "        print(predictions)\n",
    "\n",
    "        errors = [pred - actual for pred, actual in zip(predictions, y)]\n",
    "\n",
    "        gradient_weights = [sum(err*Xi[i] for err, Xi in zip(errors, X)) / num_samples for i in range(num_features)]\n",
    "        gradient_bias = sum(errors) / num_samples\n",
    "\n",
    "        weights = [w - learning_rate * gw for w, gw in zip(weights, gradient_weights)]\n",
    "        bias = bias - learning_rate * gradient_bias\n",
    "    return weights, bias"
   ]
  },
  {
   "cell_type": "markdown",
   "metadata": {},
   "source": [
    "One Hot Encoding"
   ]
  },
  {
   "cell_type": "code",
   "execution_count": 80,
   "metadata": {},
   "outputs": [
    {
     "data": {
      "text/html": [
       "<div>\n",
       "<style scoped>\n",
       "    .dataframe tbody tr th:only-of-type {\n",
       "        vertical-align: middle;\n",
       "    }\n",
       "\n",
       "    .dataframe tbody tr th {\n",
       "        vertical-align: top;\n",
       "    }\n",
       "\n",
       "    .dataframe thead th {\n",
       "        text-align: right;\n",
       "    }\n",
       "</style>\n",
       "<table border=\"1\" class=\"dataframe\">\n",
       "  <thead>\n",
       "    <tr style=\"text-align: right;\">\n",
       "      <th></th>\n",
       "      <th>bedrooms</th>\n",
       "      <th>sq_meter</th>\n",
       "      <th>sales_price</th>\n",
       "      <th>neighborhood_Cool Town</th>\n",
       "      <th>neighborhood_Normalville</th>\n",
       "      <th>neighborhood_Skid Row</th>\n",
       "    </tr>\n",
       "  </thead>\n",
       "  <tbody>\n",
       "    <tr>\n",
       "      <th>0</th>\n",
       "      <td>3</td>\n",
       "      <td>200</td>\n",
       "      <td>250000</td>\n",
       "      <td>False</td>\n",
       "      <td>True</td>\n",
       "      <td>False</td>\n",
       "    </tr>\n",
       "    <tr>\n",
       "      <th>1</th>\n",
       "      <td>2</td>\n",
       "      <td>80</td>\n",
       "      <td>300000</td>\n",
       "      <td>True</td>\n",
       "      <td>False</td>\n",
       "      <td>False</td>\n",
       "    </tr>\n",
       "    <tr>\n",
       "      <th>2</th>\n",
       "      <td>2</td>\n",
       "      <td>85</td>\n",
       "      <td>150000</td>\n",
       "      <td>False</td>\n",
       "      <td>True</td>\n",
       "      <td>False</td>\n",
       "    </tr>\n",
       "    <tr>\n",
       "      <th>3</th>\n",
       "      <td>1</td>\n",
       "      <td>55</td>\n",
       "      <td>78000</td>\n",
       "      <td>False</td>\n",
       "      <td>True</td>\n",
       "      <td>False</td>\n",
       "    </tr>\n",
       "    <tr>\n",
       "      <th>4</th>\n",
       "      <td>4</td>\n",
       "      <td>200</td>\n",
       "      <td>150000</td>\n",
       "      <td>False</td>\n",
       "      <td>False</td>\n",
       "      <td>True</td>\n",
       "    </tr>\n",
       "  </tbody>\n",
       "</table>\n",
       "</div>"
      ],
      "text/plain": [
       "   bedrooms  sq_meter  sales_price  neighborhood_Cool Town  \\\n",
       "0         3       200       250000                   False   \n",
       "1         2        80       300000                    True   \n",
       "2         2        85       150000                   False   \n",
       "3         1        55        78000                   False   \n",
       "4         4       200       150000                   False   \n",
       "\n",
       "   neighborhood_Normalville  neighborhood_Skid Row  \n",
       "0                      True                  False  \n",
       "1                     False                  False  \n",
       "2                      True                  False  \n",
       "3                      True                  False  \n",
       "4                     False                   True  "
      ]
     },
     "execution_count": 80,
     "metadata": {},
     "output_type": "execute_result"
    }
   ],
   "source": [
    "df_encoded = pd.get_dummies(df, columns = ['neighborhood'])\n",
    "df_encoded"
   ]
  },
  {
   "cell_type": "code",
   "execution_count": 81,
   "metadata": {},
   "outputs": [
    {
     "name": "stdout",
     "output_type": "stream",
     "text": [
      "<class 'pandas.core.frame.DataFrame'>\n",
      "RangeIndex: 5 entries, 0 to 4\n",
      "Data columns (total 6 columns):\n",
      " #   Column                    Non-Null Count  Dtype\n",
      "---  ------                    --------------  -----\n",
      " 0   bedrooms                  5 non-null      int64\n",
      " 1   sq_meter                  5 non-null      int64\n",
      " 2   sales_price               5 non-null      int64\n",
      " 3   neighborhood_Cool Town    5 non-null      bool \n",
      " 4   neighborhood_Normalville  5 non-null      bool \n",
      " 5   neighborhood_Skid Row     5 non-null      bool \n",
      "dtypes: bool(3), int64(3)\n",
      "memory usage: 267.0 bytes\n"
     ]
    }
   ],
   "source": [
    "df_encoded.info()"
   ]
  },
  {
   "cell_type": "code",
   "execution_count": 82,
   "metadata": {},
   "outputs": [
    {
     "data": {
      "text/plain": [
       "array([[3, 200, False, True, False],\n",
       "       [2, 80, True, False, False],\n",
       "       [2, 85, False, True, False],\n",
       "       [1, 55, False, True, False],\n",
       "       [4, 200, False, False, True]], dtype=object)"
      ]
     },
     "execution_count": 82,
     "metadata": {},
     "output_type": "execute_result"
    }
   ],
   "source": [
    "X = df_encoded.drop(columns=['sales_price']).values #Features\n",
    "X"
   ]
  },
  {
   "cell_type": "code",
   "execution_count": 83,
   "metadata": {},
   "outputs": [
    {
     "data": {
      "text/plain": [
       "array([250000, 300000, 150000,  78000, 150000], dtype=int64)"
      ]
     },
     "execution_count": 83,
     "metadata": {},
     "output_type": "execute_result"
    }
   ],
   "source": [
    "y = df_encoded['sales_price'].values #target\n",
    "y"
   ]
  },
  {
   "cell_type": "code",
   "execution_count": 84,
   "metadata": {},
   "outputs": [
    {
     "data": {
      "text/plain": [
       "[0.8, 1.2, 0.5, 0.5, 0.5]"
      ]
     },
     "execution_count": 84,
     "metadata": {},
     "output_type": "execute_result"
    }
   ],
   "source": [
    "weights =[\n",
    "    weights_data['bedroom_weight'],\n",
    "    weights_data['sqm_weight']] + \\\n",
    "    [weights_data['neighborhood_weight']] * 3\n",
    "\n",
    "weights"
   ]
  },
  {
   "cell_type": "code",
   "execution_count": 85,
   "metadata": {},
   "outputs": [
    {
     "data": {
      "text/plain": [
       "[1, 2, 3, 4, 4, 4]"
      ]
     },
     "execution_count": 85,
     "metadata": {},
     "output_type": "execute_result"
    }
   ],
   "source": [
    "# [1,2,3] + [4] * 3\n",
    "\n",
    "[1,2,3] + \\\n",
    "[4] * 3\n"
   ]
  },
  {
   "cell_type": "code",
   "execution_count": 86,
   "metadata": {},
   "outputs": [
    {
     "data": {
      "text/plain": [
       "200"
      ]
     },
     "execution_count": 86,
     "metadata": {},
     "output_type": "execute_result"
    }
   ],
   "source": [
    "bias = weights_data['bias']\n",
    "bias"
   ]
  },
  {
   "cell_type": "code",
   "execution_count": 87,
   "metadata": {},
   "outputs": [],
   "source": [
    "learning_rate = 0.01\n",
    "num_iterations = 100"
   ]
  },
  {
   "cell_type": "code",
   "execution_count": 90,
   "metadata": {},
   "outputs": [
    {
     "name": "stdout",
     "output_type": "stream",
     "text": [
      "[442.9, 298.1, 304.1, 267.3, 443.7]\n",
      "[48336502.708, 19339768.810799997, 20548112.1984, 13295531.6288, 48340495.498799995]\n",
      "[-9250453424.178156, -3701014222.311096, -3932325052.905665, -2544356308.547413, -9251240637.652817]\n",
      "[1779625067198.0454, 712010542443.0607, 756510566375.7745, 489489702751.6781, 1779776466911.6394]\n",
      "[-342359312457589.7, -136974604098830.11, -145535394913835.8, -94166665097896.75, -342388438382116.56]\n",
      "[6.5862140075237384e+16, 2.635079646975882e+16, 2.7997697790130388e+16, 1.811552325733674e+16, 6.586774324015674e+16]\n",
      "[-1.2670376806619675e+19, -5.069293528041182e+18, -5.386119860568647e+18, -3.4850143869803336e+18, -1.2671454728028912e+19]\n",
      "[2.437492134919241e+21, 9.75216703716482e+20, 1.0361668795050606e+21, 6.704374532813333e+20, 2.4376995024661717e+21]\n",
      "[-4.6891801234269184e+23, -1.8760949902522483e+23, -1.9933492569359225e+23, -1.2897690765397904e+23, -4.6895790513928305e+23]\n",
      "[9.020915355967133e+25, 3.609179784386519e+25, 3.8347503078123524e+25, 2.4812221671933556e+25, 9.0216828025823e+25]\n",
      "[-1.7354188092065069e+28, -6.943240498858164e+27, -7.377186848766886e+27, -4.773306753088183e+27, -1.7355664484690946e+28]\n",
      "[3.338550828276614e+30, 1.3357214521021302e+30, 1.4192028537228605e+30, 9.182755845217194e+29, 3.3388348526168963e+30]\n",
      "[-6.4226119792275154e+32, -2.56962407956232e+32, -2.730223296908602e+32, -1.766553236041578e+32, -6.423158377417664e+32]\n",
      "[1.2355643738097693e+35, 4.943371913264468e+34, 5.252328256971012e+34, 3.398446379682832e+34, 1.2356694883861823e+35]\n",
      "[-2.3769446554850757e+37, -9.509922508592898e+36, -1.0104284199102878e+37, -6.53783738861947e+36, -2.37714687200727e+37]\n",
      "[4.572700552880246e+39, 1.8294926561517525e+39, 1.9438343184422096e+39, 1.2577311201837991e+39, 4.5730895714468764e+39]\n",
      "[-8.796835171597284e+41, -3.519527499712958e+41, -3.739494835160287e+41, -2.4195884306214386e+41, -8.797583554783494e+41]\n",
      "[1.692310881531665e+44, 6.770769906937666e+43, 7.193936998394546e+43, 4.654737471027651e+43, 1.6924548534243822e+44]\n",
      "[-3.255620986280758e+46, -1.3025420354417326e+46, -1.383949753059403e+46, -8.95465553148811e+45, -3.255897955436059e+46]\n",
      "[6.263073837071098e+48, 2.505794433147486e+48, 2.662404354417644e+48, 1.7226719269713733e+48, 6.263606662691018e+48]\n",
      "[-1.2048728661568378e+51, -4.820578200429072e+50, -5.121860046401392e+50, -3.3140287278946847e+50, -1.2049753696796343e+51]\n",
      "[2.3179011797821685e+53, 9.273695351483071e+52, 9.853293054976615e+52, 6.375437039030456e+52, 2.3180983732314495e+53]\n",
      "[-4.459114343219189e+55, -1.7840479273723608e+55, -1.8955493345716036e+55, -1.2264889889612663e+55, -4.4594936985367263e+55]\n",
      "[8.578321155076906e+57, 3.432102184220028e+57, 3.6466055152800664e+57, 2.3594856804859794e+57, 8.5790509483711e+57]\n",
      "[-1.650273757871716e+60, -6.6025834968890615e+59, -7.015239087447067e+59, -4.539113458436601e+59, -1.6504141534922933e+60]\n",
      "[3.174751127507326e+62, 1.2701867978706144e+62, 1.3495723419445734e+62, 8.732221245910086e+61, 3.1750212167289465e+62]\n",
      "[-6.107498633806992e+64, -2.4435503197270872e+64, -2.5962700393217407e+64, -1.6798806327653845e+64, -6.108018224000302e+64]\n",
      "[1.174943737755022e+67, 4.70083469222656e+66, 4.994632675538744e+66, 3.2317080166308996e+66, 1.1750436950829614e+67]\n",
      "[-2.2603243482499773e+69, -9.043336093896696e+68, -9.608536548870083e+68, -6.217070725771647e+68, -2.2605166433998364e+69]\n",
      "[4.3483496231518583e+71, 1.7397320489148823e+71, 1.848463753163063e+71, 1.196022914518806e+71, 4.348719555256103e+71]\n",
      "[-8.365235042397459e+73, -3.3468485198335806e+73, -3.556023572767155e+73, -2.300875886974107e+73, -8.365946707573888e+73]\n",
      "[1.6092808393781398e+76, 6.4385748493274235e+75, 6.8409800454227065e+75, 4.426361554610199e+75, 1.6094177475614334e+76]\n",
      "[-3.095890081825344e+78, -1.2386352667210937e+78, -1.3160488681871855e+78, -8.515312243937524e+77, -3.0961534620113307e+78]\n",
      "[5.955787929748922e+80, 2.382852354547839e+80, 2.5317785053555903e+80, 1.6381522773762167e+80, 5.956294613284568e+80]\n",
      "[-1.1457580510490511e+83, -4.5840656213551107e+82, -4.870565641692335e+82, -3.151432157738472e+82, -1.1458555254297963e+83]\n",
      "[2.2041777293421234e+85, 8.818698976788799e+84, 9.369859811927754e+84, 6.062638243091301e+84, 2.2043652478666695e+85]\n",
      "[-4.240336306674405e+87, -1.6965169800563657e+87, -1.802547780973416e+87, -1.1663136195503473e+87, -4.240697049638651e+87]\n",
      "[8.157442004038269e+89, 3.263712562584391e+89, 3.467691692202277e+89, 2.243721964936225e+89, 8.158135991400679e+89]\n",
      "[-1.5693061879197186e+92, -6.278640188332963e+91, -6.671049610499079e+91, -4.316410416160759e+91, -1.569439695293921e+92]\n",
      "[3.0189879501735593e+94, 1.2078674778680194e+94, 1.28335811992204e+94, 8.303791277129413e+93, 3.019244787976838e+94]\n",
      "[-5.807845730459462e+96, -2.323662131176549e+96, -2.4688889457181186e+96, -1.597460457327431e+96, -5.808339827939747e+96]\n",
      "[1.1172973388938843e+99, 4.4701971025781034e+98, 4.749580441864036e+98, 3.0731503569378495e+98, 1.1173923920040214e+99]\n",
      "[-2.1494257964744487e+101, -8.599641861779526e+100, -9.137111822247579e+100, -5.912041874355733e+100, -2.1496086570253973e+101]\n",
      "[4.135006048724336e+103, 1.6543753766074274e+103, 1.757772364825785e+103, 1.1373423055994819e+103, 4.135357830807479e+103]\n",
      "[-7.954810559653624e+105, -3.1826417084752965e+105, -3.381553981885276e+105, -2.1879877504205092e+105, -7.955487308320183e+105]\n",
      "[1.5303245096702727e+108, 6.122678315787184e+107, 6.505340259765371e+107, 4.2091904718754546e+107, 1.5304547007117255e+108]\n",
      "[-2.9439960729869773e+110, -1.1778639630965415e+110, -1.2514794121881902e+110, -8.097524506305864e+109, -2.944246530920803e+110]\n",
      "[5.663578426009905e+112, 2.265942197198579e+112, 2.407561567252113e+112, 1.5577794250068371e+112, 5.664060250073345e+112]\n",
      "[-1.0895435928696882e+115, -4.3591570859735065e+114, -4.6316005230758267e+114, -2.9968130816830296e+114, -1.0896362848537528e+115]\n",
      "[2.096033905545696e+117, 8.386026141216585e+116, 8.910145309322388e+116, 5.765186330219451e+116, 2.0962122238274454e+117]\n",
      "[-4.03229220193542e+119, -1.6132805736103113e+119, -1.7141091732262942e+119, -1.1090906411648104e+119, -4.032635245726391e+119]\n",
      "[7.757212494879045e+121, 3.1035846601962035e+121, 3.2975559384698463e+121, 2.133637977790298e+121, 7.757872433060195e+121]\n",
      "[-1.4923111391040831e+124, -5.970590547340127e+123, -6.343747141187604e+123, -4.1046338786953905e+123, -1.4924380961907298e+124]\n",
      "[2.870866999407691e+126, 1.1486057377836655e+126, 1.2203925738406055e+126, 7.89638141686183e+125, 2.87111123594848e+126]\n",
      "[-5.5228947317488876e+128, -2.2096560305199604e+128, -2.347757565265246e+128, -1.51908407237478e+128, -5.523364587268039e+128]\n",
      "[1.0624792518870702e+131, 4.25087531134451e+130, 4.516551233931149e+130, 2.922372029820004e+130, 1.0625696413956033e+131]\n",
      "[-2.0439682730165698e+133, -8.177716650471703e+132, -8.688816660854978e+132, -5.62197868833114e+132, -2.044142161859413e+133]\n",
      "[3.9321297744667805e+135, 1.5732065684667238e+135, 1.671530578437404e+135, 1.081540750100741e+135, 3.932464297025383e+135]\n",
      "[-7.564522780204049e+137, -3.0264913946658736e+137, -3.215644412476706e+137, -2.0806382574098703e+137, -7.565166325473452e+137]\n",
      "[1.455242023388855e+140, 5.822280649968139e+139, 6.186168007263824e+139, 4.002674478788108e+139, 1.4553658268523646e+140]\n",
      "[-2.799554457260507e+142, -1.1200742888857904e+142, -1.1900779347869414e+142, -7.700234736184394e+141, -2.7997926269481073e+142]\n",
      "[5.3857056305423325e+144, 2.154768016258156e+144, 2.289439098976529e+144, 1.4813499150771091e+144, 5.386163814816693e+144]\n",
      "[-1.0360871910753583e+147, -4.145283263762641e+146, -4.404359777379495e+146, -2.849780099023737e+146, -1.0361753353020173e+147]\n",
      "[1.993195954533313e+149, 7.974581582415674e+148, 8.472985831887906e+148, 5.482328334537356e+148, 1.993365523964829e+149]\n",
      "[-3.8344553888795305e+151, -1.5341280044847782e+151, -1.6300096389965604e+151, -1.0546752003064213e+151, -3.8347816018737864e+151]\n",
      "[7.376619491860168e+153, 2.951313131379999e+153, 3.1357675746634555e+153, 2.028955053884525e+153, 7.377247051418928e+153]\n",
      "[-1.4190937071663749e+156, -5.677654781082799e+155, -6.032503150327371e+155, -3.903247757686459e+155, -1.4192144353429725e+156]\n",
      "[2.73001332377438e+158, 1.0922515632246486e+158, 1.16051631354136e+158, 7.508960353121488e+157, 2.7302455773098597e+158]\n",
      "[-5.251924316448151e+160, -2.1012434242068633e+160, -2.2325692675726848e+160, -1.4445530769527865e+160, -5.252371119392278e+160]\n",
      "[1.010350710946894e+163, 4.04231413021515e+162, 4.294955164654299e+162, 2.77899135699432e+162, 1.0104366656646418e+163]\n",
      "[-1.9436848240822737e+165, -7.77649240401782e+164, -8.262516256190505e+164, -5.346146905546718e+164, -1.943850181396951e+165]\n",
      "[3.739207242034905e+167, 1.4960201548346307e+167, 1.5895200826690664e+167, 1.0284769926956333e+167, 3.73952535187499e+167]\n",
      "[-7.193383734674078e+169, -2.878002301545493e+169, -3.057874883229788e+169, -1.978555664841168e+169, -7.193995705608394e+169]\n",
      "[1.3838433177112085e+172, 5.536621429152297e+171, 5.882655339457172e+171, 3.806290803467282e+171, 1.3839610469912418e+172]\n",
      "[-2.6621995970311336e+174, -1.0651199560642138e+174, -1.1316890050875071e+174, -7.322437239450951e+173, -2.6624260813721366e+174]\n",
      "[5.121466139790089e+176, 2.0490483868605977e+176, 2.177112086859286e+176, 1.4086702749263277e+176, 5.121901844117042e+176]\n",
      "[-9.85253526830492e+178, -3.941902757329328e+178, -4.188268170355061e+178, -2.7099610123934707e+178, -9.853373464268864e+178]\n",
      "[1.895403553662291e+181, 7.583323775017177e+180, 8.057274759847087e+180, 5.213348233018352e+180, 1.8955648034894127e+181]\n",
      "[-3.646325065988545e+183, -1.4588589069026674e+183, -1.5500362898244242e+183, -1.0029295504406811e+183, -3.646635273957389e+183]\n",
      "[7.014699566837099e+185, 2.8065125179815035e+185, 2.981917051837344e+185, 1.9294082002359997e+185, 7.015296336369518e+185]\n",
      "[-1.3494685504580613e+188, -5.39909135579784e+187, -5.736529758955199e+187, -3.711742266944098e+187, -1.3495833553343355e+188]\n",
      "[2.5960703681233958e+190, 1.0386622999713651e+190, 1.1035777690429746e+190, 7.140547373300343e+189, 2.596291226577126e+190]\n",
      "[-4.994248553595911e+192, -1.9981498779851373e+192, -2.1230324664918736e+192, -1.3736788042755112e+192, -4.994673434996136e+192]\n",
      "[9.607797585673647e+194, 3.843985610146907e+194, 4.084231288645186e+194, 2.64264538650296e+194, 9.608614960789737e+194]\n",
      "[-1.84832159346199e+197, -7.394953468613831e+196, -7.857131476991555e+196, -5.083848289039132e+196, -1.8484788378318424e+197]\n",
      "[3.5557500898561426e+199, 1.422620747034321e+199, 1.5115332772255893e+199, 9.780167084834546e+198, 3.5560525922367944e+199]\n",
      "[-6.840453926543369e+201, -2.736798545768072e+201, -2.90784601842394e+201, -1.881481562176192e+201, -6.841035872277808e+201]\n",
      "[1.31594765488864e+204, 5.264977539328362e+203, 5.594033948352172e+203, 3.619542322848619e+203, 1.3160596080035546e+204]\n",
      "[-2.5315837940041294e+206, -1.0128618539532518e+206, -1.0761648181177621e+206, -6.963175664468996e+205, -2.5317991663180297e+206]\n",
      "[4.870191061366104e+208, 1.9485156917202882e+208, 2.070296187772664e+208, 1.3395565242650458e+208, 4.870605388681878e+208]\n",
      "[-9.3691392046301e+210, -3.748500731922548e+210, -3.9827786905379054e+210, -2.577001885587056e+210, -9.36993627608969e+210]\n",
      "[1.8024091525295103e+213, 7.211262294130374e+212, 7.661959767635274e+212, 4.957565132955344e+212, 1.802562490937939e+213]\n",
      "[-3.4674250026263835e+215, -1.3872827456558958e+215, -1.473986682220923e+215, -9.537227033070508e+214, -3.467719990826206e+215]\n",
      "[6.67053656045043e+217, 2.6688162736239056e+217, 2.8356149147924713e+217, 1.8347454252428114e+217, 6.6711040506110895e+217]\n",
      "[-1.2832594207690877e+220, -5.134195119677852e+219, -5.455077743903496e+219, -3.5296326319765174e+219, -1.2833685929605988e+220]\n",
      "[2.468699071010589e+222, 9.877022928644869e+221, 1.0494328068594301e+222, 6.790209881605094e+221, 2.468909093460767e+222]\n",
      "[-4.74921516613997e+224, -1.900114422201735e+224, -2.01886988199878e+224, -1.306281844137093e+224, -4.749619201535507e+224]\n",
      "[9.136409114886875e+226, 3.655387704920904e+226, 3.883846182243202e+226, 2.512988973941475e+226, 9.137186387034246e+226]\n",
      "[-1.7576371799223676e+229, -7.032134021594353e+228, -7.471636137535988e+228, -4.834418859524973e+228, -1.7577867093937345e+229]\n",
      "[3.381293916897574e+231, 1.3528225427659469e+231, 1.4373727473287964e+231, 9.300321629614539e+230, 3.381581577569358e+231]\n"
     ]
    },
    {
     "data": {
      "text/plain": [
       "([-6.00491190767002e+229,\n",
       "  -3.251357761539787e+231,\n",
       "  -2.6916535471851085e+228,\n",
       "  -1.1437941859146019e+229,\n",
       "  -6.728189219667024e+228],\n",
       " -2.0857784625998154e+229)"
      ]
     },
     "execution_count": 90,
     "metadata": {},
     "output_type": "execute_result"
    }
   ],
   "source": [
    "gradient_descent(X, y, weights, bias, learning_rate, num_iterations)"
   ]
  }
 ],
 "metadata": {
  "kernelspec": {
   "display_name": "venv",
   "language": "python",
   "name": "python3"
  },
  "language_info": {
   "codemirror_mode": {
    "name": "ipython",
    "version": 3
   },
   "file_extension": ".py",
   "mimetype": "text/x-python",
   "name": "python",
   "nbconvert_exporter": "python",
   "pygments_lexer": "ipython3",
   "version": "3.11.3"
  }
 },
 "nbformat": 4,
 "nbformat_minor": 2
}
